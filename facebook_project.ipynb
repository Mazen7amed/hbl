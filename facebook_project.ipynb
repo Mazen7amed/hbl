{
 "cells": [
  {
   "cell_type": "markdown",
   "id": "02912dd3",
   "metadata": {},
   "source": [
    "# Facebook Project"
   ]
  },
  {
   "cell_type": "markdown",
   "id": "3839cb81",
   "metadata": {},
   "source": [
    "### importing libraries"
   ]
  },
  {
   "cell_type": "code",
   "execution_count": 1,
   "id": "ecfdfb9e",
   "metadata": {},
   "outputs": [],
   "source": [
    "import numpy as np\n",
    "import pandas as pd\n",
    "import matplotlib.pyplot as plt\n",
    "import seaborn as sns\n",
    "import plotly.express as px"
   ]
  },
  {
   "cell_type": "code",
   "execution_count": 38,
   "id": "110ae03a",
   "metadata": {},
   "outputs": [
    {
     "name": "stdout",
     "output_type": "stream",
     "text": [
      "Collecting streamlitNote: you may need to restart the kernel to use updated packages.\n",
      "\n",
      "  Downloading streamlit-1.39.0-py2.py3-none-any.whl.metadata (8.5 kB)\n",
      "Collecting altair<6,>=4.0 (from streamlit)\n",
      "  Downloading altair-5.4.1-py3-none-any.whl.metadata (9.4 kB)\n",
      "Requirement already satisfied: blinker<2,>=1.0.0 in c:\\users\\hmaze\\appdata\\local\\programs\\python\\python311\\lib\\site-packages (from streamlit) (1.8.2)\n",
      "Collecting cachetools<6,>=4.0 (from streamlit)\n",
      "  Downloading cachetools-5.5.0-py3-none-any.whl.metadata (5.3 kB)\n",
      "Requirement already satisfied: click<9,>=7.0 in c:\\users\\hmaze\\appdata\\local\\programs\\python\\python311\\lib\\site-packages (from streamlit) (8.1.7)\n",
      "Requirement already satisfied: numpy<3,>=1.20 in c:\\users\\hmaze\\appdata\\local\\programs\\python\\python311\\lib\\site-packages (from streamlit) (1.26.4)\n",
      "Requirement already satisfied: packaging<25,>=20 in c:\\users\\hmaze\\appdata\\local\\programs\\python\\python311\\lib\\site-packages (from streamlit) (24.1)\n",
      "Requirement already satisfied: pandas<3,>=1.4.0 in c:\\users\\hmaze\\appdata\\local\\programs\\python\\python311\\lib\\site-packages (from streamlit) (2.2.2)\n",
      "Requirement already satisfied: pillow<11,>=7.1.0 in c:\\users\\hmaze\\appdata\\local\\programs\\python\\python311\\lib\\site-packages (from streamlit) (10.3.0)\n",
      "Collecting protobuf<6,>=3.20 (from streamlit)\n",
      "  Downloading protobuf-5.28.2-cp310-abi3-win_amd64.whl.metadata (592 bytes)\n",
      "Requirement already satisfied: pyarrow>=7.0 in c:\\users\\hmaze\\appdata\\local\\programs\\python\\python311\\lib\\site-packages (from streamlit) (16.0.0)\n",
      "Requirement already satisfied: requests<3,>=2.27 in c:\\users\\hmaze\\appdata\\local\\programs\\python\\python311\\lib\\site-packages (from streamlit) (2.31.0)\n",
      "Requirement already satisfied: rich<14,>=10.14.0 in c:\\users\\hmaze\\appdata\\local\\programs\\python\\python311\\lib\\site-packages (from streamlit) (13.9.1)\n",
      "Requirement already satisfied: tenacity<10,>=8.1.0 in c:\\users\\hmaze\\appdata\\local\\programs\\python\\python311\\lib\\site-packages (from streamlit) (8.4.2)\n",
      "Collecting toml<2,>=0.10.1 (from streamlit)\n",
      "  Downloading toml-0.10.2-py2.py3-none-any.whl.metadata (7.1 kB)\n",
      "Requirement already satisfied: typing-extensions<5,>=4.3.0 in c:\\users\\hmaze\\appdata\\roaming\\python\\python311\\site-packages (from streamlit) (4.12.2)\n",
      "Collecting gitpython!=3.1.19,<4,>=3.0.7 (from streamlit)\n",
      "  Downloading GitPython-3.1.43-py3-none-any.whl.metadata (13 kB)\n",
      "Collecting pydeck<1,>=0.8.0b4 (from streamlit)\n",
      "  Downloading pydeck-0.9.1-py2.py3-none-any.whl.metadata (4.1 kB)\n",
      "Requirement already satisfied: tornado<7,>=6.0.3 in c:\\users\\hmaze\\appdata\\roaming\\python\\python311\\site-packages (from streamlit) (6.3.2)\n",
      "Collecting watchdog<6,>=2.1.5 (from streamlit)\n",
      "  Downloading watchdog-5.0.3-py3-none-win_amd64.whl.metadata (41 kB)\n",
      "Requirement already satisfied: jinja2 in c:\\users\\hmaze\\appdata\\local\\programs\\python\\python311\\lib\\site-packages (from altair<6,>=4.0->streamlit) (3.1.4)\n",
      "Requirement already satisfied: jsonschema>=3.0 in c:\\users\\hmaze\\appdata\\local\\programs\\python\\python311\\lib\\site-packages (from altair<6,>=4.0->streamlit) (4.17.3)\n",
      "Collecting narwhals>=1.5.2 (from altair<6,>=4.0->streamlit)\n",
      "  Downloading narwhals-1.9.2-py3-none-any.whl.metadata (7.0 kB)\n",
      "Requirement already satisfied: colorama in c:\\users\\hmaze\\appdata\\roaming\\python\\python311\\site-packages (from click<9,>=7.0->streamlit) (0.4.6)\n",
      "Collecting gitdb<5,>=4.0.1 (from gitpython!=3.1.19,<4,>=3.0.7->streamlit)\n",
      "  Downloading gitdb-4.0.11-py3-none-any.whl.metadata (1.2 kB)\n",
      "Requirement already satisfied: python-dateutil>=2.8.2 in c:\\users\\hmaze\\appdata\\local\\programs\\python\\python311\\lib\\site-packages (from pandas<3,>=1.4.0->streamlit) (2.9.0.post0)\n",
      "Requirement already satisfied: pytz>=2020.1 in c:\\users\\hmaze\\appdata\\local\\programs\\python\\python311\\lib\\site-packages (from pandas<3,>=1.4.0->streamlit) (2024.1)\n",
      "Requirement already satisfied: tzdata>=2022.7 in c:\\users\\hmaze\\appdata\\local\\programs\\python\\python311\\lib\\site-packages (from pandas<3,>=1.4.0->streamlit) (2024.1)\n",
      "Requirement already satisfied: charset-normalizer<4,>=2 in c:\\users\\hmaze\\appdata\\local\\programs\\python\\python311\\lib\\site-packages (from requests<3,>=2.27->streamlit) (3.3.2)\n",
      "Requirement already satisfied: idna<4,>=2.5 in c:\\users\\hmaze\\appdata\\local\\programs\\python\\python311\\lib\\site-packages (from requests<3,>=2.27->streamlit) (3.10)\n",
      "Requirement already satisfied: urllib3<3,>=1.21.1 in c:\\users\\hmaze\\appdata\\local\\programs\\python\\python311\\lib\\site-packages (from requests<3,>=2.27->streamlit) (2.0.1)\n",
      "Requirement already satisfied: certifi>=2017.4.17 in c:\\users\\hmaze\\appdata\\local\\programs\\python\\python311\\lib\\site-packages (from requests<3,>=2.27->streamlit) (2024.8.30)\n",
      "Requirement already satisfied: markdown-it-py>=2.2.0 in c:\\users\\hmaze\\appdata\\local\\programs\\python\\python311\\lib\\site-packages (from rich<14,>=10.14.0->streamlit) (3.0.0)\n",
      "Requirement already satisfied: pygments<3.0.0,>=2.13.0 in c:\\users\\hmaze\\appdata\\local\\programs\\python\\python311\\lib\\site-packages (from rich<14,>=10.14.0->streamlit) (2.18.0)\n",
      "Collecting smmap<6,>=3.0.1 (from gitdb<5,>=4.0.1->gitpython!=3.1.19,<4,>=3.0.7->streamlit)\n",
      "  Downloading smmap-5.0.1-py3-none-any.whl.metadata (4.3 kB)\n",
      "Requirement already satisfied: MarkupSafe>=2.0 in c:\\users\\hmaze\\appdata\\local\\programs\\python\\python311\\lib\\site-packages (from jinja2->altair<6,>=4.0->streamlit) (2.1.5)\n",
      "Requirement already satisfied: attrs>=17.4.0 in c:\\users\\hmaze\\appdata\\local\\programs\\python\\python311\\lib\\site-packages (from jsonschema>=3.0->altair<6,>=4.0->streamlit) (23.2.0)\n",
      "Requirement already satisfied: pyrsistent!=0.17.0,!=0.17.1,!=0.17.2,>=0.14.0 in c:\\users\\hmaze\\appdata\\local\\programs\\python\\python311\\lib\\site-packages (from jsonschema>=3.0->altair<6,>=4.0->streamlit) (0.19.3)\n",
      "Requirement already satisfied: mdurl~=0.1 in c:\\users\\hmaze\\appdata\\local\\programs\\python\\python311\\lib\\site-packages (from markdown-it-py>=2.2.0->rich<14,>=10.14.0->streamlit) (0.1.2)\n",
      "Requirement already satisfied: six>=1.5 in c:\\users\\hmaze\\appdata\\roaming\\python\\python311\\site-packages (from python-dateutil>=2.8.2->pandas<3,>=1.4.0->streamlit) (1.16.0)\n",
      "Downloading streamlit-1.39.0-py2.py3-none-any.whl (8.7 MB)\n",
      "   ---------------------------------------- 0.0/8.7 MB ? eta -:--:--\n",
      "   -- ------------------------------------- 0.5/8.7 MB 4.2 MB/s eta 0:00:02\n",
      "   ----- ---------------------------------- 1.3/8.7 MB 3.7 MB/s eta 0:00:02\n",
      "   --------- ------------------------------ 2.1/8.7 MB 3.4 MB/s eta 0:00:02\n",
      "   ----------- ---------------------------- 2.6/8.7 MB 3.5 MB/s eta 0:00:02\n",
      "   --------------- ------------------------ 3.4/8.7 MB 3.5 MB/s eta 0:00:02\n",
      "   ----------------- ---------------------- 3.9/8.7 MB 3.4 MB/s eta 0:00:02\n",
      "   --------------------- ------------------ 4.7/8.7 MB 3.3 MB/s eta 0:00:02\n",
      "   ----------------------- ---------------- 5.2/8.7 MB 3.3 MB/s eta 0:00:02\n",
      "   --------------------------- ------------ 6.0/8.7 MB 3.4 MB/s eta 0:00:01\n",
      "   ----------------------------- ---------- 6.6/8.7 MB 3.3 MB/s eta 0:00:01\n",
      "   -------------------------------- ------- 7.1/8.7 MB 3.3 MB/s eta 0:00:01\n",
      "   ---------------------------------- ----- 7.6/8.7 MB 3.2 MB/s eta 0:00:01\n",
      "   -------------------------------------- - 8.4/8.7 MB 3.2 MB/s eta 0:00:01\n",
      "   ---------------------------------------- 8.7/8.7 MB 3.1 MB/s eta 0:00:00\n",
      "Downloading altair-5.4.1-py3-none-any.whl (658 kB)\n",
      "   ---------------------------------------- 0.0/658.1 kB ? eta -:--:--\n",
      "   ------------------------------- -------- 524.3/658.1 kB 3.4 MB/s eta 0:00:01\n",
      "   ---------------------------------------- 658.1/658.1 kB 2.8 MB/s eta 0:00:00\n",
      "Downloading cachetools-5.5.0-py3-none-any.whl (9.5 kB)\n",
      "Downloading GitPython-3.1.43-py3-none-any.whl (207 kB)\n",
      "Downloading protobuf-5.28.2-cp310-abi3-win_amd64.whl (431 kB)\n",
      "Downloading pydeck-0.9.1-py2.py3-none-any.whl (6.9 MB)\n",
      "   ---------------------------------------- 0.0/6.9 MB ? eta -:--:--\n",
      "   --- ------------------------------------ 0.5/6.9 MB 2.8 MB/s eta 0:00:03\n",
      "   ------ --------------------------------- 1.0/6.9 MB 3.0 MB/s eta 0:00:02\n",
      "   --------- ------------------------------ 1.6/6.9 MB 2.8 MB/s eta 0:00:02\n",
      "   ------------- -------------------------- 2.4/6.9 MB 3.1 MB/s eta 0:00:02\n",
      "   ------------------ --------------------- 3.1/6.9 MB 3.2 MB/s eta 0:00:02\n",
      "   ---------------------- ----------------- 3.9/6.9 MB 3.3 MB/s eta 0:00:01\n",
      "   ------------------------ --------------- 4.2/6.9 MB 3.2 MB/s eta 0:00:01\n",
      "   ---------------------------- ----------- 5.0/6.9 MB 3.1 MB/s eta 0:00:01\n",
      "   --------------------------------- ------ 5.8/6.9 MB 3.2 MB/s eta 0:00:01\n",
      "   ------------------------------------- -- 6.6/6.9 MB 3.2 MB/s eta 0:00:01\n",
      "   ---------------------------------------- 6.9/6.9 MB 3.1 MB/s eta 0:00:00\n",
      "Downloading toml-0.10.2-py2.py3-none-any.whl (16 kB)\n",
      "Downloading watchdog-5.0.3-py3-none-win_amd64.whl (79 kB)\n",
      "Downloading gitdb-4.0.11-py3-none-any.whl (62 kB)\n",
      "Downloading narwhals-1.9.2-py3-none-any.whl (185 kB)\n",
      "Downloading smmap-5.0.1-py3-none-any.whl (24 kB)\n",
      "Installing collected packages: watchdog, toml, smmap, protobuf, narwhals, cachetools, pydeck, gitdb, altair, gitpython, streamlit\n",
      "Successfully installed altair-5.4.1 cachetools-5.5.0 gitdb-4.0.11 gitpython-3.1.43 narwhals-1.9.2 protobuf-5.28.2 pydeck-0.9.1 smmap-5.0.1 streamlit-1.39.0 toml-0.10.2 watchdog-5.0.3\n"
     ]
    }
   ],
   "source": [
    "pip install streamlit"
   ]
  },
  {
   "cell_type": "markdown",
   "id": "b621e298",
   "metadata": {},
   "source": [
    "### loading & inspecting data "
   ]
  },
  {
   "cell_type": "code",
   "execution_count": 2,
   "id": "7876e121",
   "metadata": {},
   "outputs": [
    {
     "data": {
      "text/html": [
       "<div>\n",
       "<style scoped>\n",
       "    .dataframe tbody tr th:only-of-type {\n",
       "        vertical-align: middle;\n",
       "    }\n",
       "\n",
       "    .dataframe tbody tr th {\n",
       "        vertical-align: top;\n",
       "    }\n",
       "\n",
       "    .dataframe thead th {\n",
       "        text-align: right;\n",
       "    }\n",
       "</style>\n",
       "<table border=\"1\" class=\"dataframe\">\n",
       "  <thead>\n",
       "    <tr style=\"text-align: right;\">\n",
       "      <th></th>\n",
       "      <th>Names</th>\n",
       "      <th>emails</th>\n",
       "      <th>Country</th>\n",
       "      <th>Time Spent on Site</th>\n",
       "      <th>Salary</th>\n",
       "      <th>Clicked</th>\n",
       "    </tr>\n",
       "  </thead>\n",
       "  <tbody>\n",
       "    <tr>\n",
       "      <th>0</th>\n",
       "      <td>Martina Avila</td>\n",
       "      <td>cubilia.Curae.Phasellus@quisaccumsanconvallis.edu</td>\n",
       "      <td>Bulgaria</td>\n",
       "      <td>25.649648</td>\n",
       "      <td>55330.06006</td>\n",
       "      <td>0</td>\n",
       "    </tr>\n",
       "    <tr>\n",
       "      <th>1</th>\n",
       "      <td>Harlan Barnes</td>\n",
       "      <td>eu.dolor@diam.co.uk</td>\n",
       "      <td>Belize</td>\n",
       "      <td>32.456107</td>\n",
       "      <td>79049.07674</td>\n",
       "      <td>1</td>\n",
       "    </tr>\n",
       "    <tr>\n",
       "      <th>2</th>\n",
       "      <td>Naomi Rodriquez</td>\n",
       "      <td>vulputate.mauris.sagittis@ametconsectetueradip...</td>\n",
       "      <td>Algeria</td>\n",
       "      <td>20.945978</td>\n",
       "      <td>41098.60826</td>\n",
       "      <td>0</td>\n",
       "    </tr>\n",
       "    <tr>\n",
       "      <th>3</th>\n",
       "      <td>Jade Cunningham</td>\n",
       "      <td>malesuada@dignissim.com</td>\n",
       "      <td>Cook Islands</td>\n",
       "      <td>54.039325</td>\n",
       "      <td>37143.35536</td>\n",
       "      <td>1</td>\n",
       "    </tr>\n",
       "    <tr>\n",
       "      <th>4</th>\n",
       "      <td>Cedric Leach</td>\n",
       "      <td>felis.ullamcorper.viverra@egetmollislectus.net</td>\n",
       "      <td>Brazil</td>\n",
       "      <td>34.249729</td>\n",
       "      <td>37355.11276</td>\n",
       "      <td>0</td>\n",
       "    </tr>\n",
       "  </tbody>\n",
       "</table>\n",
       "</div>"
      ],
      "text/plain": [
       "             Names                                             emails  \\\n",
       "0    Martina Avila  cubilia.Curae.Phasellus@quisaccumsanconvallis.edu   \n",
       "1    Harlan Barnes                                eu.dolor@diam.co.uk   \n",
       "2  Naomi Rodriquez  vulputate.mauris.sagittis@ametconsectetueradip...   \n",
       "3  Jade Cunningham                            malesuada@dignissim.com   \n",
       "4     Cedric Leach     felis.ullamcorper.viverra@egetmollislectus.net   \n",
       "\n",
       "        Country  Time Spent on Site       Salary  Clicked  \n",
       "0      Bulgaria           25.649648  55330.06006        0  \n",
       "1        Belize           32.456107  79049.07674        1  \n",
       "2       Algeria           20.945978  41098.60826        0  \n",
       "3  Cook Islands           54.039325  37143.35536        1  \n",
       "4        Brazil           34.249729  37355.11276        0  "
      ]
     },
     "execution_count": 2,
     "metadata": {},
     "output_type": "execute_result"
    }
   ],
   "source": [
    "df = pd.read_csv('facebook_ads.csv', encoding=\"ISO-8859-1\")\n",
    "df.head()"
   ]
  },
  {
   "cell_type": "code",
   "execution_count": 3,
   "id": "67b6fe7e",
   "metadata": {},
   "outputs": [
    {
     "name": "stdout",
     "output_type": "stream",
     "text": [
      "<class 'pandas.core.frame.DataFrame'>\n",
      "RangeIndex: 499 entries, 0 to 498\n",
      "Data columns (total 6 columns):\n",
      " #   Column              Non-Null Count  Dtype  \n",
      "---  ------              --------------  -----  \n",
      " 0   Names               499 non-null    object \n",
      " 1   emails              499 non-null    object \n",
      " 2   Country             499 non-null    object \n",
      " 3   Time Spent on Site  499 non-null    float64\n",
      " 4   Salary              499 non-null    float64\n",
      " 5   Clicked             499 non-null    int64  \n",
      "dtypes: float64(2), int64(1), object(3)\n",
      "memory usage: 23.5+ KB\n"
     ]
    }
   ],
   "source": [
    "df.info()"
   ]
  },
  {
   "cell_type": "code",
   "execution_count": 4,
   "id": "41d88a9f",
   "metadata": {},
   "outputs": [
    {
     "data": {
      "text/html": [
       "<div>\n",
       "<style scoped>\n",
       "    .dataframe tbody tr th:only-of-type {\n",
       "        vertical-align: middle;\n",
       "    }\n",
       "\n",
       "    .dataframe tbody tr th {\n",
       "        vertical-align: top;\n",
       "    }\n",
       "\n",
       "    .dataframe thead th {\n",
       "        text-align: right;\n",
       "    }\n",
       "</style>\n",
       "<table border=\"1\" class=\"dataframe\">\n",
       "  <thead>\n",
       "    <tr style=\"text-align: right;\">\n",
       "      <th></th>\n",
       "      <th>Time Spent on Site</th>\n",
       "      <th>Salary</th>\n",
       "      <th>Clicked</th>\n",
       "    </tr>\n",
       "  </thead>\n",
       "  <tbody>\n",
       "    <tr>\n",
       "      <th>count</th>\n",
       "      <td>499.00</td>\n",
       "      <td>499.00</td>\n",
       "      <td>499.0</td>\n",
       "    </tr>\n",
       "    <tr>\n",
       "      <th>mean</th>\n",
       "      <td>32.92</td>\n",
       "      <td>52896.99</td>\n",
       "      <td>0.5</td>\n",
       "    </tr>\n",
       "    <tr>\n",
       "      <th>std</th>\n",
       "      <td>9.10</td>\n",
       "      <td>18989.18</td>\n",
       "      <td>0.5</td>\n",
       "    </tr>\n",
       "    <tr>\n",
       "      <th>min</th>\n",
       "      <td>5.00</td>\n",
       "      <td>20.00</td>\n",
       "      <td>0.0</td>\n",
       "    </tr>\n",
       "    <tr>\n",
       "      <th>25%</th>\n",
       "      <td>26.43</td>\n",
       "      <td>38888.12</td>\n",
       "      <td>0.0</td>\n",
       "    </tr>\n",
       "    <tr>\n",
       "      <th>50%</th>\n",
       "      <td>33.20</td>\n",
       "      <td>52840.91</td>\n",
       "      <td>1.0</td>\n",
       "    </tr>\n",
       "    <tr>\n",
       "      <th>75%</th>\n",
       "      <td>39.11</td>\n",
       "      <td>65837.29</td>\n",
       "      <td>1.0</td>\n",
       "    </tr>\n",
       "    <tr>\n",
       "      <th>max</th>\n",
       "      <td>60.00</td>\n",
       "      <td>100000.00</td>\n",
       "      <td>1.0</td>\n",
       "    </tr>\n",
       "  </tbody>\n",
       "</table>\n",
       "</div>"
      ],
      "text/plain": [
       "       Time Spent on Site     Salary  Clicked\n",
       "count              499.00     499.00    499.0\n",
       "mean                32.92   52896.99      0.5\n",
       "std                  9.10   18989.18      0.5\n",
       "min                  5.00      20.00      0.0\n",
       "25%                 26.43   38888.12      0.0\n",
       "50%                 33.20   52840.91      1.0\n",
       "75%                 39.11   65837.29      1.0\n",
       "max                 60.00  100000.00      1.0"
      ]
     },
     "execution_count": 4,
     "metadata": {},
     "output_type": "execute_result"
    }
   ],
   "source": [
    "df.describe().round(2)"
   ]
  },
  {
   "cell_type": "code",
   "execution_count": null,
   "id": "5f7e39bd",
   "metadata": {},
   "outputs": [],
   "source": []
  },
  {
   "cell_type": "markdown",
   "id": "a477b191",
   "metadata": {},
   "source": [
    "## exploratory data analysis (eda)"
   ]
  },
  {
   "cell_type": "code",
   "execution_count": 5,
   "id": "a8c50d6f",
   "metadata": {},
   "outputs": [
    {
     "data": {
      "text/plain": [
       "<Axes: xlabel='Time Spent on Site'>"
      ]
     },
     "execution_count": 5,
     "metadata": {},
     "output_type": "execute_result"
    },
    {
     "data": {
      "image/png": "[encoded data removed]",
      "text/plain": [
       "<Figure size 640x480 with 1 Axes>"
      ]
     },
     "metadata": {},
     "output_type": "display_data"
    }
   ],
   "source": [
    "sns.boxplot(data=df, x='Time Spent on Site')"
   ]
  },
  {
   "cell_type": "code",
   "execution_count": 6,
   "id": "2f01fc85",
   "metadata": {},
   "outputs": [
    {
     "data": {
      "text/plain": [
       "<Axes: xlabel='Salary'>"
      ]
     },
     "execution_count": 6,
     "metadata": {},
     "output_type": "execute_result"
    },
    {
     "data": {
      "image/png": "[encoded data removed]",
      "text/plain": [
       "<Figure size 640x480 with 1 Axes>"
      ]
     },
     "metadata": {},
     "output_type": "display_data"
    }
   ],
   "source": [
    "sns.violinplot(data=df, x='Salary')"
   ]
  },
  {
   "cell_type": "code",
   "execution_count": 7,
   "id": "26ab54eb",
   "metadata": {},
   "outputs": [
    {
     "data": {
      "text/plain": [
       "<Axes: xlabel='Clicked'>"
      ]
     },
     "execution_count": 7,
     "metadata": {},
     "output_type": "execute_result"
    },
    {
     "data": {
      "image/png": "[encoded data removed]",
      "text/plain": [
       "<Figure size 640x480 with 1 Axes>"
      ]
     },
     "metadata": {},
     "output_type": "display_data"
    }
   ],
   "source": [
    "df['Clicked'].value_counts().plot(kind='bar')"
   ]
  },
  {
   "cell_type": "code",
   "execution_count": 8,
   "id": "9c32f53f",
   "metadata": {},
   "outputs": [
    {
     "data": {
      "application/vnd.plotly.v1+json": {
       "config": {
        "plotlyServerURL": "https://plot.ly"
       },
       "data": [
        {
         "hovertemplate": "Time Spent on Site=%{x}<br>Salary=%{y}<br>Clicked=%{marker.color}<extra></extra>",
         "legendgroup": "",
         "marker": {
          "color": [
           0,
           1,
           0,
           1,
           0,
           1,
           1,
           0,
           1,
           0,
           0,
           0,
           0,
           1,
           1,
           0,
           1,
           0,
           1,
           0,
           0,
           0,
           1,
           1,
           0,
           0,
           1,
           1,
           1,
           0,
           1,
           1,
           0,
           0,
           0,
           0,
           1,
           1,
           0,
           1,
           0,
           0,
           1,
           0,
           0,
           0,
           1,
           0,
           1,
           1,
           1,
           0,
           0,
           0,
           1,
           0,
           0,
           1,
           1,
           1,
           1,
           1,
           1,
           0,
           1,
           1,
           0,
           1,
           1,
           0,
           0,
           1,
           0,
           0,
           0,
           1,
           0,
           0,
           0,
           1,
           0,
           1,
           0,
           1,
           1,
           1,
           1,
           1,
           1,
           0,
           1,
           0,
           1,
           0,
           1,
           0,
           1,
           0,
           0,
           1,
           1,
           0,
           1,
           1,
           1,
           1,
           0,
           1,
           1,
           1,
           1,
           1,
           1,
           1,
           1,
           1,
           1,
           0,
           1,
           0,
           0,
           1,
           0,
           0,
           0,
           1,
           1,
           0,
           0,
           1,
           1,
           1,
           1,
           0,
           0,
           0,
           1,
           0,
           1,
           1,
           0,
           1,
           0,
           1,
           1,
           1,
           0,
           1,
           0,
           0,
           0,
           1,
           1,
           0,
           1,
           0,
           0,
           1,
           1,
           1,
           1,
           1,
           1,
           1,
           0,
           0,
           0,
           0,
           1,
           0,
           1,
           1,
           1,
           1,
           1,
           0,
           1,
           0,
           0,
           0,
           1,
           1,
           0,
           0,
           0,
           0,
           0,
           1,
           0,
           1,
           1,
           0,
           0,
           0,
           1,
           0,
           1,
           0,
           1,
           0,
           1,
           0,
           0,
           0,
           0,
           1,
           0,
           0,
           1,
           0,
           1,
           0,
           0,
           0,
           0,
           1,
           1,
           1,
           0,
           0,
           1,
           0,
           1,
           1,
           1,
           0,
           1,
           1,
           0,
           1,
           0,
           1,
           1,
           1,
           1,
           0,
           1,
           0,
           0,
           1,
           0,
           0,
           0,
           0,
           0,
           1,
           0,
           1,
           0,
           1,
           1,
           0,
           0,
           1,
           1,
           1,
           0,
           1,
           1,
           0,
           1,
           1,
           1,
           1,
           0,
           0,
           0,
           1,
           1,
           1,
           0,
           1,
           1,
           0,
           1,
           1,
           0,
           1,
           0,
           1,
           0,
           0,
           1,
           0,
           1,
           1,
           0,
           1,
           1,
           1,
           0,
           0,
           0,
           0,
           1,
           0,
           1,
           0,
           0,
           0,
           0,
           0,
           1,
           0,
           0,
           1,
           0,
           0,
           1,
           1,
           0,
           0,
           0,
           1,
           1,
           0,
           0,
           1,
           1,
           0,
           0,
           1,
           1,
           0,
           1,
           1,
           1,
           0,
           0,
           0,
           1,
           1,
           0,
           0,
           1,
           1,
           0,
           0,
           1,
           0,
           0,
           1,
           1,
           1,
           1,
           1,
           1,
           1,
           0,
           0,
           0,
           1,
           1,
           0,
           0,
           1,
           1,
           1,
           0,
           1,
           1,
           0,
           1,
           1,
           0,
           0,
           0,
           1,
           0,
           0,
           0,
           0,
           0,
           0,
           1,
           0,
           1,
           0,
           1,
           1,
           1,
           1,
           0,
           1,
           0,
           0,
           1,
           1,
           1,
           0,
           0,
           1,
           0,
           1,
           1,
           1,
           1,
           0,
           1,
           0,
           1,
           0,
           0,
           0,
           0,
           0,
           0,
           1,
           1,
           0,
           1,
           0,
           1,
           1,
           0,
           1,
           1,
           0,
           1,
           1,
           0,
           1,
           0,
           0,
           1,
           1,
           1,
           0,
           1,
           0,
           0,
           1,
           0,
           0,
           1,
           0,
           0,
           0,
           1,
           1,
           0,
           0,
           0,
           0,
           1,
           1,
           0,
           0,
           0,
           0,
           0,
           0,
           0,
           0,
           0,
           1,
           0,
           0,
           1,
           1,
           0,
           1,
           0,
           1,
           1,
           1,
           1,
           0,
           1,
           0,
           1,
           1,
           0,
           0,
           1,
           0,
           1,
           0,
           0,
           1,
           1,
           0,
           1,
           0,
           0,
           1,
           1,
           1,
           0,
           0,
           1,
           1,
           0,
           0,
           0,
           0,
           0,
           0,
           1
          ],
          "coloraxis": "coloraxis",
          "symbol": "circle"
         },
         "mode": "markers",
         "name": "",
         "orientation": "v",
         "showlegend": false,
         "type": "scatter",
         "x": [
          25.64964796,
          32.4561067,
          20.9459779,
          54.03932483,
          34.24972885,
          52.009946,
          42.88136962,
          25.67691961,
          40.69823258,
          29.68736186,
          33.27257201,
          34.53089789,
          25.31369521,
          46.54070821,
          37.71658186,
          25.05678222,
          41.09596023,
          24.76156334,
          48.87017547,
          27.83383193,
          17.10357571,
          25.59779568,
          42.24918966,
          37.13592176,
          32.44311107,
          19.93667384,
          39.82053932,
          30.728855,
          24.04358267,
          39.05603564,
          31.24695278,
          36.05739686,
          19.91097364,
          22.45597721,
          36.76571584,
          35.9575676,
          41.98992623,
          34.54167504,
          24.8281717,
          38.59167327,
          30.51549302,
          28.94486995,
          40.98396284,
          27.6038406,
          19.08930322,
          18.88158576,
          20.7144638,
          27.40380951,
          39.0490584,
          36.29675049,
          38.80675882,
          26.24438241,
          20.77689122,
          26.00979988,
          60,
          27.43202822,
          26.38762215,
          47.0705902,
          41.80763973,
          36.80881022,
          29.84320393,
          41.96283572,
          42.90845702,
          31.51837345,
          44.44928606,
          38.65205041,
          29.8597461,
          31.8710838,
          35.12430594,
          43.62297928,
          27.80474308,
          41.45757766,
          26.41024062,
          24.70853208,
          38.24196295,
          53.07390737,
          38.16548743,
          26.4081753,
          19.84569165,
          46.46722628,
          27.87075416,
          37.62506904,
          15.61952773,
          42.77022205,
          29.77003092,
          30.57590597,
          31.71847222,
          41.3595971,
          27.29327988,
          25.79893299,
          39.63235688,
          20.16830065,
          44.46261096,
          11.86323919,
          48.48303164,
          18.99824885,
          24.6473139,
          28.86364148,
          12.86603146,
          33.90725189,
          36.18051977,
          23.35834588,
          30.10873256,
          32.27287963,
          38.48352034,
          32.66177154,
          25.91027665,
          45.86710186,
          41.5015106,
          33.52110273,
          41.69066385,
          34.06031809,
          39.90381939,
          36.51682175,
          33.62164706,
          36.69360676,
          47.00291765,
          30.78285598,
          40.48817793,
          33.30018535,
          24.35226936,
          29.22745612,
          23.40401579,
          33.65352965,
          26.40436992,
          39.4479733,
          25.31509253,
          31.93948165,
          31.26752085,
          23.29675418,
          38.22240635,
          37.8973797,
          35.83780833,
          17.65202654,
          19.24781562,
          23.42955765,
          34.50754444,
          24.4172577,
          47.53387211,
          40.21860981,
          24.88002444,
          34.72089246,
          27.94999848,
          39.3494331,
          36.20948247,
          29.46850124,
          10.50880583,
          35.55372033,
          27.17818707,
          23.49637815,
          25.1426733,
          40.45862297,
          38.85740629,
          29.57629817,
          30.55713775,
          30.73058648,
          28.92279322,
          35.35945023,
          37.11306409,
          32.60710887,
          48.86155144,
          32.9495012,
          40.51714588,
          50.27275928,
          25.57841409,
          28.55023711,
          35.8429434,
          30.96784232,
          42.13602953,
          32.71937249,
          44.42815308,
          30.63803803,
          42.15123912,
          56.43468411,
          41.76876662,
          20.28968164,
          35.57647831,
          25.24975468,
          29.05806625,
          29.84671247,
          18.68080454,
          46.52552514,
          29.82341385,
          23.65392627,
          33.52063994,
          33.64686463,
          29.30247451,
          46.99520543,
          31.47443053,
          38.32228964,
          51.34216473,
          10.86485657,
          24.5302413,
          29.45939139,
          36.59635094,
          33.43745304,
          35.49689126,
          35.82619479,
          40.52309986,
          22.40054589,
          36.04935476,
          20.58188709,
          31.57919656,
          27.67481322,
          34.9456435,
          50.98540223,
          28.70941242,
          21.05508222,
          30.26586641,
          32.32761388,
          46.63386841,
          22.43651939,
          17.47609818,
          34.90566348,
          32.19964896,
          30.56994406,
          42.15365266,
          33.73464149,
          34.84294022,
          23.40241842,
          45.87607348,
          34.18829955,
          41.69867026,
          28.37593916,
          38.92794505,
          29.17618959,
          35.52469589,
          44.12167673,
          21.21823371,
          33.48920433,
          25.40533124,
          26.03915211,
          37.27361129,
          26.78554691,
          44.23545814,
          33.81681308,
          44.18591343,
          36.45456844,
          19.72856219,
          31.42337097,
          50.2276799,
          20.08969059,
          31.99610236,
          19.05320743,
          22.95961162,
          40.5024428,
          19.91915277,
          53.15307881,
          16.27854129,
          33.58980562,
          35.32469121,
          27.65961996,
          30.98472571,
          41.62829375,
          27.57964404,
          42.91951535,
          29.49352162,
          41.70102524,
          33.52781377,
          28.08281725,
          44.63675828,
          39.25055957,
          53.04942593,
          40.26209841,
          24.43384042,
          15.649629,
          29.30805493,
          44.6762203,
          36.14658099,
          44.13742151,
          31.02688687,
          47.94324542,
          44.25040892,
          29.46393413,
          30.68836313,
          41.10234404,
          18.28599306,
          42.48956811,
          18.18128689,
          50.87587787,
          20.49312232,
          28.88082438,
          42.0668915,
          26.43984692,
          28.25136746,
          50.04465417,
          22.62763449,
          46.29400299,
          33.05309718,
          48.79441333,
          30.38853454,
          27.70683798,
          40.31449815,
          23.05456858,
          45.49470455,
          38.42240366,
          36.81948765,
          31.36001768,
          11.93126715,
          36.50108189,
          19.29288071,
          32.23653993,
          53.66421559,
          15.55711844,
          33.89191769,
          44.0125057,
          13.21920633,
          22.46223807,
          43.88044794,
          29.98847785,
          27.02256588,
          30.85174103,
          30.96886719,
          38.62045462,
          42.01032189,
          24.63376195,
          13.98085251,
          46.40316681,
          28.75506712,
          18.92994351,
          35.35770925,
          54.00296923,
          43.17270876,
          33.99761705,
          39.17395344,
          36.60819608,
          42.90334313,
          37.56686426,
          7.521479578,
          32.45517602,
          43.75097505,
          44.5507249,
          29.18929235,
          34.90456885,
          37.21336232,
          34.624829,
          32.02486996,
          37.27845311,
          48.34993054,
          40.28595513,
          31.00919441,
          39.85143036,
          33.19606651,
          45.66350188,
          40.62656202,
          46.72920854,
          29.0471256,
          37.64227835,
          33.52289881,
          24.65874501,
          28.37189839,
          30.39110162,
          37.53221982,
          24.1169889,
          29.75877737,
          33.7387837,
          39.60558697,
          37.71334996,
          31.43762441,
          40.76043056,
          45.91087487,
          11.45136643,
          36.87391206,
          40.12939589,
          20.33250902,
          21.30437048,
          17.09696695,
          44.66143743,
          25.36440893,
          23.18118891,
          26.91349534,
          34.24962705,
          27.57637846,
          33.83980411,
          32.97825505,
          31.58481471,
          33.14470329,
          18.76607147,
          38.79643427,
          35.83440101,
          42.64483954,
          34.09821207,
          26.34016966,
          43.14099792,
          29.48842788,
          20.92704222,
          26.61900178,
          51.51373412,
          39.36122677,
          27.67047952,
          30.19356195,
          41.60560417,
          16.29734205,
          26.29833023,
          36.49810201,
          43.32183993,
          34.96225782,
          24.09295207,
          35.09745796,
          39.46152608,
          40.14642195,
          28.14906144,
          30.14597023,
          27.729903,
          23.97301292,
          30.9168263,
          25.55175563,
          38.24601461,
          37.30361744,
          25.7092621,
          38.61871867,
          20.99302096,
          25.20740109,
          29.72182064,
          35.93273724,
          49.55621717,
          35.76666566,
          27.90834531,
          44.88825392,
          36.05706317,
          34.48563345,
          37.52890362,
          23.09003029,
          30.17279255,
          43.18668883,
          46.45307621,
          35.3132725,
          30.22307944,
          44.54663012,
          25.25417658,
          31.18195695,
          42.25334417,
          30.29053728,
          29.75176871,
          35.65282431,
          13.19405478,
          25.39128301,
          38.68266947,
          38.61419821,
          34.74971308,
          29.40131806,
          29.45457773,
          33.23174574,
          7.764372756,
          21.37382972,
          24.70961882,
          32.95026007,
          28.92180065,
          31.81315302,
          27.33955071,
          36.99922381,
          33.80063857,
          35.30652127,
          29.15665408,
          37.58581197,
          37.08510495,
          15.04834636,
          25.36680843,
          36.3245104,
          36.91958559,
          27.45548652,
          37.74954941,
          22.90453299,
          37.17328096,
          49.96873255,
          44.50020647,
          38.00507269,
          26.54174275,
          41.69752746,
          30.43403507,
          28.27433859,
          40.7362791,
          23.55667566,
          37.84307263,
          44.89346691,
          23.27728171,
          37.01489532,
          25.08761701,
          20.70610068,
          42.19027936,
          42.88529723,
          22.4394882,
          37.67405831,
          20.42089217,
          36.90237773,
          33.34903685,
          41.54430438,
          43.28158641,
          24.33105444,
          23.86537076,
          34.8283033,
          37.17321553,
          5,
          24.61522753,
          19.22274647,
          22.66566158,
          35.32023874,
          26.53917023,
          32.38614783
         ],
         "xaxis": "x",
         "y": [
          55330.06006,
          79049.07674,
          41098.60826,
          37143.35536,
          37355.11276,
          80642.65222,
          61908.39815,
          29851.41153,
          34281.11878,
          41098.87881,
          54127.01715,
          30221.93714,
          43763.99758,
          48663.49468,
          64695.977,
          17759.93385,
          49463.3813,
          38484.42318,
          34774.44407,
          51644.4933,
          61661.76519,
          53630.76377,
          32215.0995,
          51733.65722,
          51677.69904,
          34263.78853,
          70503.3132,
          67022.27302,
          36474.7097,
          29178.36101,
          76064.38371,
          65202.91009,
          32894.52109,
          47770.07031,
          53464.42638,
          23683.30775,
          54726.99451,
          78156.46437,
          43126.91714,
          54524.27494,
          12066.01669,
          29899.4691,
          45591.45412,
          32242.32399,
          39279.88929,
          52518.99513,
          33993.05218,
          48026.02277,
          73516.57887,
          29354.82483,
          61298.9152,
          61347.16658,
          25642.64186,
          36948.3513,
          76499.11935,
          40814.47633,
          37080.27883,
          80709.83902,
          79523.57477,
          81282.41224,
          100000,
          63479.25557,
          55896.75063,
          35277.25683,
          78039.78813,
          57793.42565,
          49464.23152,
          56862.71755,
          71480.48003,
          43938.77658,
          38651.13022,
          75923.24992,
          55388.71453,
          58164.59682,
          52840.91311,
          65344.84072,
          28728.32036,
          28349.21118,
          19295.77075,
          68987.70835,
          23552.76527,
          51037.35333,
          31530.61515,
          70651.288,
          72535.30091,
          65742.85485,
          73046.93514,
          73157.84645,
          52587.04764,
          30541.14074,
          77245.23475,
          34498.48512,
          63084.16403,
          45622.07974,
          66439.65064,
          50882.23783,
          44289.03237,
          55595.28632,
          27148.27919,
          77611.43395,
          45151.85867,
          60421.49846,
          54942.84983,
          52020.64822,
          44371.60332,
          75011.15917,
          20,
          96204.80474,
          65690.972,
          56801.92972,
          90106.13685,
          55982.97725,
          66293.66642,
          88045.21874,
          52347.26828,
          84819.67172,
          67250.42797,
          26311.63474,
          63514.82268,
          66605.38717,
          39941.87697,
          65677.09251,
          65057.09816,
          55883.57791,
          42014.27794,
          81958.84991,
          82452.20502,
          18554.51629,
          41941.59351,
          52564.76027,
          41201.78919,
          60271.28193,
          53724.7624,
          44482.22799,
          45527.8159,
          26215.84447,
          92847.68696,
          49660.20116,
          93024.49022,
          67491.5973,
          45924.57314,
          80745.0096,
          56403.16861,
          73499.55253,
          59017.36178,
          69107.48014,
          39381.93027,
          71109.27378,
          54994.54663,
          43345.09501,
          55160.31555,
          53966.28251,
          55358.81823,
          52826.15594,
          92865.05575,
          47012.72759,
          40110.8134,
          69251.82558,
          76221.53777,
          51835.64818,
          73141.85329,
          58244.19389,
          68368.6549,
          75305.25384,
          5205.169899,
          36621.598,
          34039.31637,
          73565.31774,
          60260.70944,
          38368.18895,
          86895.47551,
          64316.04723,
          24325.73874,
          60976.07092,
          47562.9084,
          45012.4987,
          83064.95879,
          30920.79775,
          54969.64104,
          56665.66203,
          92596.74719,
          86554.9597,
          41808.07561,
          29808.11365,
          50888.64318,
          32293.74616,
          67190.91416,
          89227.57988,
          24383.50387,
          53360.38521,
          45686.28719,
          15809.81381,
          52068.02444,
          37089.15222,
          72243.38798,
          41773.86137,
          65822.94645,
          38704.73132,
          77375.0093,
          48432.0286,
          61233.45835,
          26876.97102,
          33465.46151,
          47816.3245,
          39815.21162,
          63695.04722,
          62057.62075,
          58088.90129,
          84100.27382,
          38914.6345,
          63853.42679,
          52851.49874,
          41463.9525,
          39990.79468,
          31284.73469,
          67962.91434,
          48446.82703,
          64389.14424,
          37145.63297,
          49708.91303,
          51288.00576,
          15638.64601,
          40214.07671,
          90144.10265,
          67626.03408,
          37684.86192,
          57641.39309,
          55553.57482,
          35116.30044,
          81823.33964,
          18541.73459,
          74911.04376,
          51874.97843,
          51691.32658,
          90459.34176,
          46063.71305,
          65245.87457,
          49102.83132,
          42876.16824,
          63027.65651,
          31707.31895,
          37750.45054,
          42419.65979,
          47550.95534,
          35048.06141,
          52623.64948,
          30201.25465,
          43293.50716,
          38154.41875,
          58833.68092,
          82283.60789,
          19862.40794,
          13176.24778,
          63123.67946,
          58093.96783,
          58281.11036,
          37611.8378,
          80543.10557,
          61630.42716,
          53879.86493,
          31282.86291,
          42504.88069,
          73043.34184,
          60281.70658,
          20934.75112,
          48755.89079,
          38241.22288,
          57217.99963,
          70163.22831,
          59156.44815,
          35341.27149,
          60416.7033,
          79679.1384,
          50882.94011,
          81129.61196,
          82404.98239,
          33736.54949,
          68054.34701,
          76635.48563,
          53562.2263,
          45728.95178,
          37592.77506,
          83277.5478,
          42016.00282,
          57275.72939,
          69461.32716,
          25031.14849,
          51531.08125,
          74329.31762,
          55633.03835,
          33487.85395,
          48659.56717,
          31624.0643,
          37980.92649,
          67660.87998,
          60894.22068,
          75099.42153,
          54655.58049,
          54093.63933,
          48317.12764,
          50991.42987,
          30772.33057,
          53210.35911,
          55052.91079,
          58187.77704,
          62854.41847,
          41686.82201,
          7050.784969,
          77371.64859,
          77059.75411,
          49795.25659,
          30562.37087,
          29724.82057,
          48343.44301,
          62045.41804,
          27792.45841,
          45622.74039,
          56088.84115,
          69130.79136,
          64980.5059,
          25150.48646,
          44373.39815,
          41033.05234,
          38273.28275,
          77900.1814,
          65044.06193,
          78401.67203,
          40383.55568,
          22839.25377,
          31531.12364,
          50777.99687,
          58598.26795,
          52677.4063,
          55864.96434,
          55837.21539,
          61696.33363,
          50527.98716,
          50158.74558,
          55006.64006,
          20259.5157,
          51162.99182,
          94950.42118,
          89051.9931,
          77879.46698,
          59477.38227,
          69916.66871,
          39105.72079,
          46736.46328,
          50702.52326,
          36536.82701,
          25933.2721,
          59519.43092,
          53040.61263,
          47698.82505,
          30445.16024,
          70033.40869,
          61820.9676,
          55642.79842,
          75520.26306,
          60965.43123,
          73373.88333,
          35043.62785,
          87907.98845,
          75594.05687,
          38057.40686,
          67168.18267,
          59228.85743,
          75426.28108,
          56313.8498,
          42332.55293,
          61418.44776,
          40972.9123,
          65851.62993,
          19031.97337,
          80711.85393,
          29424.29185,
          82693.81352,
          39413.96102,
          73002.16591,
          55333.72664,
          69262.6286,
          74668.66232,
          37225.21844,
          63831.93519,
          25982.67553,
          48451.7856,
          76505.55871,
          72735.56023,
          80909.18343,
          3993.153747,
          43821.76063,
          80805.68501,
          32920.52221,
          65398.52328,
          94315.45705,
          59946.71382,
          60074.23744,
          18907.67275,
          69637.1438,
          33843.65733,
          74444.75049,
          62880.73548,
          20207.60224,
          47093.54153,
          25710.85639,
          19123.46645,
          21076.6039,
          95100.12241,
          62052.98005,
          55564.87609,
          58365.20993,
          36171.35476,
          77888.10467,
          77240.46172,
          31644.00077,
          66154.72594,
          85662.40666,
          39615.39152,
          54682.88337,
          50105.87508,
          22604.41437,
          62850.32493,
          40648.69387,
          18776.95702,
          90494.10636,
          70486.66355,
          54846.03473,
          33466.30451,
          65083.77358,
          44756.53074,
          60772.42476,
          66564.03572,
          65131.99741,
          53557.34934,
          76490.7446,
          24231.08764,
          47645.93318,
          43236.50484,
          67135.16871,
          49052.90389,
          50778.33901,
          14007.79797,
          33779.10616,
          34221.11509,
          38861.60002,
          69670.8045,
          43135.13923,
          27512.08959,
          35699.68907,
          41556.96233,
          44968.82166,
          45502.977,
          12318.96493,
          39394.28363,
          23774.11863,
          91568.97221,
          97646.22035,
          37192.01715,
          76548.15257,
          61668.55977,
          40106.60547,
          73687.47697,
          34498.65896,
          63100.67245,
          71843.97055,
          52140.28407,
          63004.54187,
          50967.98785,
          54520.98718,
          40446.84799,
          82395.63688,
          35323.20101,
          43072.56754,
          57841.3598,
          71840.40455,
          40765.04379,
          73057.24451,
          61653.38311,
          7147.723544,
          48020.56799,
          58162.28499,
          35917.84819,
          62034.48602,
          40114.15621,
          32583.02418,
          52020.91646,
          55792.69851,
          54123.6465,
          59873.517,
          23439.86782,
          50151.32622,
          63750.41558,
          47329.56584,
          34721.74862,
          44969.13495,
          41686.20425,
          23989.80864,
          31708.57054,
          74331.35442
         ],
         "yaxis": "y"
        }
       ],
       "layout": {
        "coloraxis": {
         "colorbar": {
          "title": {
           "text": "Clicked"
          }
         },
         "colorscale": [
          [
           0,
           "#0d0887"
          ],
          [
           0.1111111111111111,
           "#46039f"
          ],
          [
           0.2222222222222222,
           "#7201a8"
          ],
          [
           0.3333333333333333,
           "#9c179e"
          ],
          [
           0.4444444444444444,
           "#bd3786"
          ],
          [
           0.5555555555555556,
           "#d8576b"
          ],
          [
           0.6666666666666666,
           "#ed7953"
          ],
          [
           0.7777777777777778,
           "#fb9f3a"
          ],
          [
           0.8888888888888888,
           "#fdca26"
          ],
          [
           1,
           "#f0f921"
          ]
         ]
        },
        "legend": {
         "tracegroupgap": 0
        },
        "margin": {
         "t": 60
        },
        "template": {
         "data": {
          "bar": [
           {
            "error_x": {
             "color": "#2a3f5f"
            },
            "error_y": {
             "color": "#2a3f5f"
            },
            "marker": {
             "line": {
              "color": "#E5ECF6",
              "width": 0.5
             },
             "pattern": {
              "fillmode": "overlay",
              "size": 10,
              "solidity": 0.2
             }
            },
            "type": "bar"
           }
          ],
          "barpolar": [
           {
            "marker": {
             "line": {
              "color": "#E5ECF6",
              "width": 0.5
             },
             "pattern": {
              "fillmode": "overlay",
              "size": 10,
              "solidity": 0.2
             }
            },
            "type": "barpolar"
           }
          ],
          "carpet": [
           {
            "aaxis": {
             "endlinecolor": "#2a3f5f",
             "gridcolor": "white",
             "linecolor": "white",
             "minorgridcolor": "white",
             "startlinecolor": "#2a3f5f"
            },
            "baxis": {
             "endlinecolor": "#2a3f5f",
             "gridcolor": "white",
             "linecolor": "white",
             "minorgridcolor": "white",
             "startlinecolor": "#2a3f5f"
            },
            "type": "carpet"
           }
          ],
          "choropleth": [
           {
            "colorbar": {
             "outlinewidth": 0,
             "ticks": ""
            },
            "type": "choropleth"
           }
          ],
          "contour": [
           {
            "colorbar": {
             "outlinewidth": 0,
             "ticks": ""
            },
            "colorscale": [
             [
              0,
              "#0d0887"
             ],
             [
              0.1111111111111111,
              "#46039f"
             ],
             [
              0.2222222222222222,
              "#7201a8"
             ],
             [
              0.3333333333333333,
              "#9c179e"
             ],
             [
              0.4444444444444444,
              "#bd3786"
             ],
             [
              0.5555555555555556,
              "#d8576b"
             ],
             [
              0.6666666666666666,
              "#ed7953"
             ],
             [
              0.7777777777777778,
              "#fb9f3a"
             ],
             [
              0.8888888888888888,
              "#fdca26"
             ],
             [
              1,
              "#f0f921"
             ]
            ],
            "type": "contour"
           }
          ],
          "contourcarpet": [
           {
            "colorbar": {
             "outlinewidth": 0,
             "ticks": ""
            },
            "type": "contourcarpet"
           }
          ],
          "heatmap": [
           {
            "colorbar": {
             "outlinewidth": 0,
             "ticks": ""
            },
            "colorscale": [
             [
              0,
              "#0d0887"
             ],
             [
              0.1111111111111111,
              "#46039f"
             ],
             [
              0.2222222222222222,
              "#7201a8"
             ],
             [
              0.3333333333333333,
              "#9c179e"
             ],
             [
              0.4444444444444444,
              "#bd3786"
             ],
             [
              0.5555555555555556,
              "#d8576b"
             ],
             [
              0.6666666666666666,
              "#ed7953"
             ],
             [
              0.7777777777777778,
              "#fb9f3a"
             ],
             [
              0.8888888888888888,
              "#fdca26"
             ],
             [
              1,
              "#f0f921"
             ]
            ],
            "type": "heatmap"
           }
          ],
          "heatmapgl": [
           {
            "colorbar": {
             "outlinewidth": 0,
             "ticks": ""
            },
            "colorscale": [
             [
              0,
              "#0d0887"
             ],
             [
              0.1111111111111111,
              "#46039f"
             ],
             [
              0.2222222222222222,
              "#7201a8"
             ],
             [
              0.3333333333333333,
              "#9c179e"
             ],
             [
              0.4444444444444444,
              "#bd3786"
             ],
             [
              0.5555555555555556,
              "#d8576b"
             ],
             [
              0.6666666666666666,
              "#ed7953"
             ],
             [
              0.7777777777777778,
              "#fb9f3a"
             ],
             [
              0.8888888888888888,
              "#fdca26"
             ],
             [
              1,
              "#f0f921"
             ]
            ],
            "type": "heatmapgl"
           }
          ],
          "histogram": [
           {
            "marker": {
             "pattern": {
              "fillmode": "overlay",
              "size": 10,
              "solidity": 0.2
             }
            },
            "type": "histogram"
           }
          ],
          "histogram2d": [
           {
            "colorbar": {
             "outlinewidth": 0,
             "ticks": ""
            },
            "colorscale": [
             [
              0,
              "#0d0887"
             ],
             [
              0.1111111111111111,
              "#46039f"
             ],
             [
              0.2222222222222222,
              "#7201a8"
             ],
             [
              0.3333333333333333,
              "#9c179e"
             ],
             [
              0.4444444444444444,
              "#bd3786"
             ],
             [
              0.5555555555555556,
              "#d8576b"
             ],
             [
              0.6666666666666666,
              "#ed7953"
             ],
             [
              0.7777777777777778,
              "#fb9f3a"
             ],
             [
              0.8888888888888888,
              "#fdca26"
             ],
             [
              1,
              "#f0f921"
             ]
            ],
            "type": "histogram2d"
           }
          ],
          "histogram2dcontour": [
           {
            "colorbar": {
             "outlinewidth": 0,
             "ticks": ""
            },
            "colorscale": [
             [
              0,
              "#0d0887"
             ],
             [
              0.1111111111111111,
              "#46039f"
             ],
             [
              0.2222222222222222,
              "#7201a8"
             ],
             [
              0.3333333333333333,
              "#9c179e"
             ],
             [
              0.4444444444444444,
              "#bd3786"
             ],
             [
              0.5555555555555556,
              "#d8576b"
             ],
             [
              0.6666666666666666,
              "#ed7953"
             ],
             [
              0.7777777777777778,
              "#fb9f3a"
             ],
             [
              0.8888888888888888,
              "#fdca26"
             ],
             [
              1,
              "#f0f921"
             ]
            ],
            "type": "histogram2dcontour"
           }
          ],
          "mesh3d": [
           {
            "colorbar": {
             "outlinewidth": 0,
             "ticks": ""
            },
            "type": "mesh3d"
           }
          ],
          "parcoords": [
           {
            "line": {
             "colorbar": {
              "outlinewidth": 0,
              "ticks": ""
             }
            },
            "type": "parcoords"
           }
          ],
          "pie": [
           {
            "automargin": true,
            "type": "pie"
           }
          ],
          "scatter": [
           {
            "fillpattern": {
             "fillmode": "overlay",
             "size": 10,
             "solidity": 0.2
            },
            "type": "scatter"
           }
          ],
          "scatter3d": [
           {
            "line": {
             "colorbar": {
              "outlinewidth": 0,
              "ticks": ""
             }
            },
            "marker": {
             "colorbar": {
              "outlinewidth": 0,
              "ticks": ""
             }
            },
            "type": "scatter3d"
           }
          ],
          "scattercarpet": [
           {
            "marker": {
             "colorbar": {
              "outlinewidth": 0,
              "ticks": ""
             }
            },
            "type": "scattercarpet"
           }
          ],
          "scattergeo": [
           {
            "marker": {
             "colorbar": {
              "outlinewidth": 0,
              "ticks": ""
             }
            },
            "type": "scattergeo"
           }
          ],
          "scattergl": [
           {
            "marker": {
             "colorbar": {
              "outlinewidth": 0,
              "ticks": ""
             }
            },
            "type": "scattergl"
           }
          ],
          "scattermapbox": [
           {
            "marker": {
             "colorbar": {
              "outlinewidth": 0,
              "ticks": ""
             }
            },
            "type": "scattermapbox"
           }
          ],
          "scatterpolar": [
           {
            "marker": {
             "colorbar": {
              "outlinewidth": 0,
              "ticks": ""
             }
            },
            "type": "scatterpolar"
           }
          ],
          "scatterpolargl": [
           {
            "marker": {
             "colorbar": {
              "outlinewidth": 0,
              "ticks": ""
             }
            },
            "type": "scatterpolargl"
           }
          ],
          "scatterternary": [
           {
            "marker": {
             "colorbar": {
              "outlinewidth": 0,
              "ticks": ""
             }
            },
            "type": "scatterternary"
           }
          ],
          "surface": [
           {
            "colorbar": {
             "outlinewidth": 0,
             "ticks": ""
            },
            "colorscale": [
             [
              0,
              "#0d0887"
             ],
             [
              0.1111111111111111,
              "#46039f"
             ],
             [
              0.2222222222222222,
              "#7201a8"
             ],
             [
              0.3333333333333333,
              "#9c179e"
             ],
             [
              0.4444444444444444,
              "#bd3786"
             ],
             [
              0.5555555555555556,
              "#d8576b"
             ],
             [
              0.6666666666666666,
              "#ed7953"
             ],
             [
              0.7777777777777778,
              "#fb9f3a"
             ],
             [
              0.8888888888888888,
              "#fdca26"
             ],
             [
              1,
              "#f0f921"
             ]
            ],
            "type": "surface"
           }
          ],
          "table": [
           {
            "cells": {
             "fill": {
              "color": "#EBF0F8"
             },
             "line": {
              "color": "white"
             }
            },
            "header": {
             "fill": {
              "color": "#C8D4E3"
             },
             "line": {
              "color": "white"
             }
            },
            "type": "table"
           }
          ]
         },
         "layout": {
          "annotationdefaults": {
           "arrowcolor": "#2a3f5f",
           "arrowhead": 0,
           "arrowwidth": 1
          },
          "autotypenumbers": "strict",
          "coloraxis": {
           "colorbar": {
            "outlinewidth": 0,
            "ticks": ""
           }
          },
          "colorscale": {
           "diverging": [
            [
             0,
             "#8e0152"
            ],
            [
             0.1,
             "#c51b7d"
            ],
            [
             0.2,
             "#de77ae"
            ],
            [
             0.3,
             "#f1b6da"
            ],
            [
             0.4,
             "#fde0ef"
            ],
            [
             0.5,
             "#f7f7f7"
            ],
            [
             0.6,
             "#e6f5d0"
            ],
            [
             0.7,
             "#b8e186"
            ],
            [
             0.8,
             "#7fbc41"
            ],
            [
             0.9,
             "#4d9221"
            ],
            [
             1,
             "#276419"
            ]
           ],
           "sequential": [
            [
             0,
             "#0d0887"
            ],
            [
             0.1111111111111111,
             "#46039f"
            ],
            [
             0.2222222222222222,
             "#7201a8"
            ],
            [
             0.3333333333333333,
             "#9c179e"
            ],
            [
             0.4444444444444444,
             "#bd3786"
            ],
            [
             0.5555555555555556,
             "#d8576b"
            ],
            [
             0.6666666666666666,
             "#ed7953"
            ],
            [
             0.7777777777777778,
             "#fb9f3a"
            ],
            [
             0.8888888888888888,
             "#fdca26"
            ],
            [
             1,
             "#f0f921"
            ]
           ],
           "sequentialminus": [
            [
             0,
             "#0d0887"
            ],
            [
             0.1111111111111111,
             "#46039f"
            ],
            [
             0.2222222222222222,
             "#7201a8"
            ],
            [
             0.3333333333333333,
             "#9c179e"
            ],
            [
             0.4444444444444444,
             "#bd3786"
            ],
            [
             0.5555555555555556,
             "#d8576b"
            ],
            [
             0.6666666666666666,
             "#ed7953"
            ],
            [
             0.7777777777777778,
             "#fb9f3a"
            ],
            [
             0.8888888888888888,
             "#fdca26"
            ],
            [
             1,
             "#f0f921"
            ]
           ]
          },
          "colorway": [
           "#636efa",
           "#EF553B",
           "#00cc96",
           "#ab63fa",
           "#FFA15A",
           "#19d3f3",
           "#FF6692",
           "#B6E880",
           "#FF97FF",
           "#FECB52"
          ],
          "font": {
           "color": "#2a3f5f"
          },
          "geo": {
           "bgcolor": "white",
           "lakecolor": "white",
           "landcolor": "#E5ECF6",
           "showlakes": true,
           "showland": true,
           "subunitcolor": "white"
          },
          "hoverlabel": {
           "align": "left"
          },
          "hovermode": "closest",
          "mapbox": {
           "style": "light"
          },
          "paper_bgcolor": "white",
          "plot_bgcolor": "#E5ECF6",
          "polar": {
           "angularaxis": {
            "gridcolor": "white",
            "linecolor": "white",
            "ticks": ""
           },
           "bgcolor": "#E5ECF6",
           "radialaxis": {
            "gridcolor": "white",
            "linecolor": "white",
            "ticks": ""
           }
          },
          "scene": {
           "xaxis": {
            "backgroundcolor": "#E5ECF6",
            "gridcolor": "white",
            "gridwidth": 2,
            "linecolor": "white",
            "showbackground": true,
            "ticks": "",
            "zerolinecolor": "white"
           },
           "yaxis": {
            "backgroundcolor": "#E5ECF6",
            "gridcolor": "white",
            "gridwidth": 2,
            "linecolor": "white",
            "showbackground": true,
            "ticks": "",
            "zerolinecolor": "white"
           },
           "zaxis": {
            "backgroundcolor": "#E5ECF6",
            "gridcolor": "white",
            "gridwidth": 2,
            "linecolor": "white",
            "showbackground": true,
            "ticks": "",
            "zerolinecolor": "white"
           }
          },
          "shapedefaults": {
           "line": {
            "color": "#2a3f5f"
           }
          },
          "ternary": {
           "aaxis": {
            "gridcolor": "white",
            "linecolor": "white",
            "ticks": ""
           },
           "baxis": {
            "gridcolor": "white",
            "linecolor": "white",
            "ticks": ""
           },
           "bgcolor": "#E5ECF6",
           "caxis": {
            "gridcolor": "white",
            "linecolor": "white",
            "ticks": ""
           }
          },
          "title": {
           "x": 0.05
          },
          "xaxis": {
           "automargin": true,
           "gridcolor": "white",
           "linecolor": "white",
           "ticks": "",
           "title": {
            "standoff": 15
           },
           "zerolinecolor": "white",
           "zerolinewidth": 2
          },
          "yaxis": {
           "automargin": true,
           "gridcolor": "white",
           "linecolor": "white",
           "ticks": "",
           "title": {
            "standoff": 15
           },
           "zerolinecolor": "white",
           "zerolinewidth": 2
          }
         }
        },
        "xaxis": {
         "anchor": "y",
         "domain": [
          0,
          1
         ],
         "title": {
          "text": "Time Spent on Site"
         }
        },
        "yaxis": {
         "anchor": "x",
         "domain": [
          0,
          1
         ],
         "title": {
          "text": "Salary"
         }
        }
       }
      }
     },
     "metadata": {},
     "output_type": "display_data"
    }
   ],
   "source": [
    "px.scatter(data_frame=df, x='Time Spent on Site', y='Salary', color='Clicked')"
   ]
  },
  {
   "cell_type": "code",
   "execution_count": 9,
   "id": "13d58e04",
   "metadata": {},
   "outputs": [
    {
     "data": {
      "application/vnd.plotly.v1+json": {
       "config": {
        "plotlyServerURL": "https://plot.ly"
       },
       "data": [
        {
         "coloraxis": "coloraxis",
         "hovertemplate": "x: %{x}<br>y: %{y}<br>color: %{z}<extra></extra>",
         "name": "0",
         "texttemplate": "%{z}",
         "type": "heatmap",
         "x": [
          "Time Spent on Site",
          "Salary",
          "Clicked"
         ],
         "xaxis": "x",
         "y": [
          "Time Spent on Site",
          "Salary",
          "Clicked"
         ],
         "yaxis": "y",
         "z": [
          [
           1,
           0.38832966546725156,
           0.6507807770275433
          ],
          [
           0.38832966546725156,
           1,
           0.6546543897811964
          ],
          [
           0.6507807770275433,
           0.6546543897811964,
           1
          ]
         ]
        }
       ],
       "layout": {
        "coloraxis": {
         "colorscale": [
          [
           0,
           "#0d0887"
          ],
          [
           0.1111111111111111,
           "#46039f"
          ],
          [
           0.2222222222222222,
           "#7201a8"
          ],
          [
           0.3333333333333333,
           "#9c179e"
          ],
          [
           0.4444444444444444,
           "#bd3786"
          ],
          [
           0.5555555555555556,
           "#d8576b"
          ],
          [
           0.6666666666666666,
           "#ed7953"
          ],
          [
           0.7777777777777778,
           "#fb9f3a"
          ],
          [
           0.8888888888888888,
           "#fdca26"
          ],
          [
           1,
           "#f0f921"
          ]
         ]
        },
        "margin": {
         "t": 60
        },
        "template": {
         "data": {
          "bar": [
           {
            "error_x": {
             "color": "#2a3f5f"
            },
            "error_y": {
             "color": "#2a3f5f"
            },
            "marker": {
             "line": {
              "color": "#E5ECF6",
              "width": 0.5
             },
             "pattern": {
              "fillmode": "overlay",
              "size": 10,
              "solidity": 0.2
             }
            },
            "type": "bar"
           }
          ],
          "barpolar": [
           {
            "marker": {
             "line": {
              "color": "#E5ECF6",
              "width": 0.5
             },
             "pattern": {
              "fillmode": "overlay",
              "size": 10,
              "solidity": 0.2
             }
            },
            "type": "barpolar"
           }
          ],
          "carpet": [
           {
            "aaxis": {
             "endlinecolor": "#2a3f5f",
             "gridcolor": "white",
             "linecolor": "white",
             "minorgridcolor": "white",
             "startlinecolor": "#2a3f5f"
            },
            "baxis": {
             "endlinecolor": "#2a3f5f",
             "gridcolor": "white",
             "linecolor": "white",
             "minorgridcolor": "white",
             "startlinecolor": "#2a3f5f"
            },
            "type": "carpet"
           }
          ],
          "choropleth": [
           {
            "colorbar": {
             "outlinewidth": 0,
             "ticks": ""
            },
            "type": "choropleth"
           }
          ],
          "contour": [
           {
            "colorbar": {
             "outlinewidth": 0,
             "ticks": ""
            },
            "colorscale": [
             [
              0,
              "#0d0887"
             ],
             [
              0.1111111111111111,
              "#46039f"
             ],
             [
              0.2222222222222222,
              "#7201a8"
             ],
             [
              0.3333333333333333,
              "#9c179e"
             ],
             [
              0.4444444444444444,
              "#bd3786"
             ],
             [
              0.5555555555555556,
              "#d8576b"
             ],
             [
              0.6666666666666666,
              "#ed7953"
             ],
             [
              0.7777777777777778,
              "#fb9f3a"
             ],
             [
              0.8888888888888888,
              "#fdca26"
             ],
             [
              1,
              "#f0f921"
             ]
            ],
            "type": "contour"
           }
          ],
          "contourcarpet": [
           {
            "colorbar": {
             "outlinewidth": 0,
             "ticks": ""
            },
            "type": "contourcarpet"
           }
          ],
          "heatmap": [
           {
            "colorbar": {
             "outlinewidth": 0,
             "ticks": ""
            },
            "colorscale": [
             [
              0,
              "#0d0887"
             ],
             [
              0.1111111111111111,
              "#46039f"
             ],
             [
              0.2222222222222222,
              "#7201a8"
             ],
             [
              0.3333333333333333,
              "#9c179e"
             ],
             [
              0.4444444444444444,
              "#bd3786"
             ],
             [
              0.5555555555555556,
              "#d8576b"
             ],
             [
              0.6666666666666666,
              "#ed7953"
             ],
             [
              0.7777777777777778,
              "#fb9f3a"
             ],
             [
              0.8888888888888888,
              "#fdca26"
             ],
             [
              1,
              "#f0f921"
             ]
            ],
            "type": "heatmap"
           }
          ],
          "heatmapgl": [
           {
            "colorbar": {
             "outlinewidth": 0,
             "ticks": ""
            },
            "colorscale": [
             [
              0,
              "#0d0887"
             ],
             [
              0.1111111111111111,
              "#46039f"
             ],
             [
              0.2222222222222222,
              "#7201a8"
             ],
             [
              0.3333333333333333,
              "#9c179e"
             ],
             [
              0.4444444444444444,
              "#bd3786"
             ],
             [
              0.5555555555555556,
              "#d8576b"
             ],
             [
              0.6666666666666666,
              "#ed7953"
             ],
             [
              0.7777777777777778,
              "#fb9f3a"
             ],
             [
              0.8888888888888888,
              "#fdca26"
             ],
             [
              1,
              "#f0f921"
             ]
            ],
            "type": "heatmapgl"
           }
          ],
          "histogram": [
           {
            "marker": {
             "pattern": {
              "fillmode": "overlay",
              "size": 10,
              "solidity": 0.2
             }
            },
            "type": "histogram"
           }
          ],
          "histogram2d": [
           {
            "colorbar": {
             "outlinewidth": 0,
             "ticks": ""
            },
            "colorscale": [
             [
              0,
              "#0d0887"
             ],
             [
              0.1111111111111111,
              "#46039f"
             ],
             [
              0.2222222222222222,
              "#7201a8"
             ],
             [
              0.3333333333333333,
              "#9c179e"
             ],
             [
              0.4444444444444444,
              "#bd3786"
             ],
             [
              0.5555555555555556,
              "#d8576b"
             ],
             [
              0.6666666666666666,
              "#ed7953"
             ],
             [
              0.7777777777777778,
              "#fb9f3a"
             ],
             [
              0.8888888888888888,
              "#fdca26"
             ],
             [
              1,
              "#f0f921"
             ]
            ],
            "type": "histogram2d"
           }
          ],
          "histogram2dcontour": [
           {
            "colorbar": {
             "outlinewidth": 0,
             "ticks": ""
            },
            "colorscale": [
             [
              0,
              "#0d0887"
             ],
             [
              0.1111111111111111,
              "#46039f"
             ],
             [
              0.2222222222222222,
              "#7201a8"
             ],
             [
              0.3333333333333333,
              "#9c179e"
             ],
             [
              0.4444444444444444,
              "#bd3786"
             ],
             [
              0.5555555555555556,
              "#d8576b"
             ],
             [
              0.6666666666666666,
              "#ed7953"
             ],
             [
              0.7777777777777778,
              "#fb9f3a"
             ],
             [
              0.8888888888888888,
              "#fdca26"
             ],
             [
              1,
              "#f0f921"
             ]
            ],
            "type": "histogram2dcontour"
           }
          ],
          "mesh3d": [
           {
            "colorbar": {
             "outlinewidth": 0,
             "ticks": ""
            },
            "type": "mesh3d"
           }
          ],
          "parcoords": [
           {
            "line": {
             "colorbar": {
              "outlinewidth": 0,
              "ticks": ""
             }
            },
            "type": "parcoords"
           }
          ],
          "pie": [
           {
            "automargin": true,
            "type": "pie"
           }
          ],
          "scatter": [
           {
            "fillpattern": {
             "fillmode": "overlay",
             "size": 10,
             "solidity": 0.2
            },
            "type": "scatter"
           }
          ],
          "scatter3d": [
           {
            "line": {
             "colorbar": {
              "outlinewidth": 0,
              "ticks": ""
             }
            },
            "marker": {
             "colorbar": {
              "outlinewidth": 0,
              "ticks": ""
             }
            },
            "type": "scatter3d"
           }
          ],
          "scattercarpet": [
           {
            "marker": {
             "colorbar": {
              "outlinewidth": 0,
              "ticks": ""
             }
            },
            "type": "scattercarpet"
           }
          ],
          "scattergeo": [
           {
            "marker": {
             "colorbar": {
              "outlinewidth": 0,
              "ticks": ""
             }
            },
            "type": "scattergeo"
           }
          ],
          "scattergl": [
           {
            "marker": {
             "colorbar": {
              "outlinewidth": 0,
              "ticks": ""
             }
            },
            "type": "scattergl"
           }
          ],
          "scattermapbox": [
           {
            "marker": {
             "colorbar": {
              "outlinewidth": 0,
              "ticks": ""
             }
            },
            "type": "scattermapbox"
           }
          ],
          "scatterpolar": [
           {
            "marker": {
             "colorbar": {
              "outlinewidth": 0,
              "ticks": ""
             }
            },
            "type": "scatterpolar"
           }
          ],
          "scatterpolargl": [
           {
            "marker": {
             "colorbar": {
              "outlinewidth": 0,
              "ticks": ""
             }
            },
            "type": "scatterpolargl"
           }
          ],
          "scatterternary": [
           {
            "marker": {
             "colorbar": {
              "outlinewidth": 0,
              "ticks": ""
             }
            },
            "type": "scatterternary"
           }
          ],
          "surface": [
           {
            "colorbar": {
             "outlinewidth": 0,
             "ticks": ""
            },
            "colorscale": [
             [
              0,
              "#0d0887"
             ],
             [
              0.1111111111111111,
              "#46039f"
             ],
             [
              0.2222222222222222,
              "#7201a8"
             ],
             [
              0.3333333333333333,
              "#9c179e"
             ],
             [
              0.4444444444444444,
              "#bd3786"
             ],
             [
              0.5555555555555556,
              "#d8576b"
             ],
             [
              0.6666666666666666,
              "#ed7953"
             ],
             [
              0.7777777777777778,
              "#fb9f3a"
             ],
             [
              0.8888888888888888,
              "#fdca26"
             ],
             [
              1,
              "#f0f921"
             ]
            ],
            "type": "surface"
           }
          ],
          "table": [
           {
            "cells": {
             "fill": {
              "color": "#EBF0F8"
             },
             "line": {
              "color": "white"
             }
            },
            "header": {
             "fill": {
              "color": "#C8D4E3"
             },
             "line": {
              "color": "white"
             }
            },
            "type": "table"
           }
          ]
         },
         "layout": {
          "annotationdefaults": {
           "arrowcolor": "#2a3f5f",
           "arrowhead": 0,
           "arrowwidth": 1
          },
          "autotypenumbers": "strict",
          "coloraxis": {
           "colorbar": {
            "outlinewidth": 0,
            "ticks": ""
           }
          },
          "colorscale": {
           "diverging": [
            [
             0,
             "#8e0152"
            ],
            [
             0.1,
             "#c51b7d"
            ],
            [
             0.2,
             "#de77ae"
            ],
            [
             0.3,
             "#f1b6da"
            ],
            [
             0.4,
             "#fde0ef"
            ],
            [
             0.5,
             "#f7f7f7"
            ],
            [
             0.6,
             "#e6f5d0"
            ],
            [
             0.7,
             "#b8e186"
            ],
            [
             0.8,
             "#7fbc41"
            ],
            [
             0.9,
             "#4d9221"
            ],
            [
             1,
             "#276419"
            ]
           ],
           "sequential": [
            [
             0,
             "#0d0887"
            ],
            [
             0.1111111111111111,
             "#46039f"
            ],
            [
             0.2222222222222222,
             "#7201a8"
            ],
            [
             0.3333333333333333,
             "#9c179e"
            ],
            [
             0.4444444444444444,
             "#bd3786"
            ],
            [
             0.5555555555555556,
             "#d8576b"
            ],
            [
             0.6666666666666666,
             "#ed7953"
            ],
            [
             0.7777777777777778,
             "#fb9f3a"
            ],
            [
             0.8888888888888888,
             "#fdca26"
            ],
            [
             1,
             "#f0f921"
            ]
           ],
           "sequentialminus": [
            [
             0,
             "#0d0887"
            ],
            [
             0.1111111111111111,
             "#46039f"
            ],
            [
             0.2222222222222222,
             "#7201a8"
            ],
            [
             0.3333333333333333,
             "#9c179e"
            ],
            [
             0.4444444444444444,
             "#bd3786"
            ],
            [
             0.5555555555555556,
             "#d8576b"
            ],
            [
             0.6666666666666666,
             "#ed7953"
            ],
            [
             0.7777777777777778,
             "#fb9f3a"
            ],
            [
             0.8888888888888888,
             "#fdca26"
            ],
            [
             1,
             "#f0f921"
            ]
           ]
          },
          "colorway": [
           "#636efa",
           "#EF553B",
           "#00cc96",
           "#ab63fa",
           "#FFA15A",
           "#19d3f3",
           "#FF6692",
           "#B6E880",
           "#FF97FF",
           "#FECB52"
          ],
          "font": {
           "color": "#2a3f5f"
          },
          "geo": {
           "bgcolor": "white",
           "lakecolor": "white",
           "landcolor": "#E5ECF6",
           "showlakes": true,
           "showland": true,
           "subunitcolor": "white"
          },
          "hoverlabel": {
           "align": "left"
          },
          "hovermode": "closest",
          "mapbox": {
           "style": "light"
          },
          "paper_bgcolor": "white",
          "plot_bgcolor": "#E5ECF6",
          "polar": {
           "angularaxis": {
            "gridcolor": "white",
            "linecolor": "white",
            "ticks": ""
           },
           "bgcolor": "#E5ECF6",
           "radialaxis": {
            "gridcolor": "white",
            "linecolor": "white",
            "ticks": ""
           }
          },
          "scene": {
           "xaxis": {
            "backgroundcolor": "#E5ECF6",
            "gridcolor": "white",
            "gridwidth": 2,
            "linecolor": "white",
            "showbackground": true,
            "ticks": "",
            "zerolinecolor": "white"
           },
           "yaxis": {
            "backgroundcolor": "#E5ECF6",
            "gridcolor": "white",
            "gridwidth": 2,
            "linecolor": "white",
            "showbackground": true,
            "ticks": "",
            "zerolinecolor": "white"
           },
           "zaxis": {
            "backgroundcolor": "#E5ECF6",
            "gridcolor": "white",
            "gridwidth": 2,
            "linecolor": "white",
            "showbackground": true,
            "ticks": "",
            "zerolinecolor": "white"
           }
          },
          "shapedefaults": {
           "line": {
            "color": "#2a3f5f"
           }
          },
          "ternary": {
           "aaxis": {
            "gridcolor": "white",
            "linecolor": "white",
            "ticks": ""
           },
           "baxis": {
            "gridcolor": "white",
            "linecolor": "white",
            "ticks": ""
           },
           "bgcolor": "#E5ECF6",
           "caxis": {
            "gridcolor": "white",
            "linecolor": "white",
            "ticks": ""
           }
          },
          "title": {
           "x": 0.05
          },
          "xaxis": {
           "automargin": true,
           "gridcolor": "white",
           "linecolor": "white",
           "ticks": "",
           "title": {
            "standoff": 15
           },
           "zerolinecolor": "white",
           "zerolinewidth": 2
          },
          "yaxis": {
           "automargin": true,
           "gridcolor": "white",
           "linecolor": "white",
           "ticks": "",
           "title": {
            "standoff": 15
           },
           "zerolinecolor": "white",
           "zerolinewidth": 2
          }
         }
        },
        "xaxis": {
         "anchor": "y",
         "constrain": "domain",
         "domain": [
          0,
          1
         ],
         "scaleanchor": "y"
        },
        "yaxis": {
         "anchor": "x",
         "autorange": "reversed",
         "constrain": "domain",
         "domain": [
          0,
          1
         ]
        }
       }
      }
     },
     "metadata": {},
     "output_type": "display_data"
    }
   ],
   "source": [
    "numeric_df = df.select_dtypes(include=['float64', 'int64'])\n",
    "\n",
    "# Calculate the correlation matrix\n",
    "corr_matrix = numeric_df.corr()\n",
    "\n",
    "# Display the correlation matrix with annotations\n",
    "px.imshow(corr_matrix, text_auto=True)\n"
   ]
  },
  {
   "cell_type": "code",
   "execution_count": null,
   "id": "9e9c67e0",
   "metadata": {},
   "outputs": [],
   "source": []
  },
  {
   "cell_type": "markdown",
   "id": "277663ad",
   "metadata": {},
   "source": [
    "### data preprocessing"
   ]
  },
  {
   "cell_type": "code",
   "execution_count": null,
   "id": "8d207b4f",
   "metadata": {},
   "outputs": [],
   "source": []
  },
  {
   "cell_type": "code",
   "execution_count": 10,
   "id": "207dc92e",
   "metadata": {},
   "outputs": [
    {
     "data": {
      "text/html": [
       "<div>\n",
       "<style scoped>\n",
       "    .dataframe tbody tr th:only-of-type {\n",
       "        vertical-align: middle;\n",
       "    }\n",
       "\n",
       "    .dataframe tbody tr th {\n",
       "        vertical-align: top;\n",
       "    }\n",
       "\n",
       "    .dataframe thead th {\n",
       "        text-align: right;\n",
       "    }\n",
       "</style>\n",
       "<table border=\"1\" class=\"dataframe\">\n",
       "  <thead>\n",
       "    <tr style=\"text-align: right;\">\n",
       "      <th></th>\n",
       "      <th>Names</th>\n",
       "      <th>emails</th>\n",
       "      <th>Country</th>\n",
       "      <th>Time Spent on Site</th>\n",
       "      <th>Salary</th>\n",
       "      <th>Clicked</th>\n",
       "    </tr>\n",
       "  </thead>\n",
       "  <tbody>\n",
       "    <tr>\n",
       "      <th>457</th>\n",
       "      <td>Veda</td>\n",
       "      <td>et.euismod@Duis.co.uk</td>\n",
       "      <td>Luxembourg</td>\n",
       "      <td>25.366808</td>\n",
       "      <td>37192.01715</td>\n",
       "      <td>0</td>\n",
       "    </tr>\n",
       "    <tr>\n",
       "      <th>216</th>\n",
       "      <td>Quinlan S. Cantu</td>\n",
       "      <td>pede.Praesent.eu@Aliquam.net</td>\n",
       "      <td>French Polynesia</td>\n",
       "      <td>42.153653</td>\n",
       "      <td>48446.82703</td>\n",
       "      <td>1</td>\n",
       "    </tr>\n",
       "  </tbody>\n",
       "</table>\n",
       "</div>"
      ],
      "text/plain": [
       "                Names                        emails           Country  \\\n",
       "457              Veda         et.euismod@Duis.co.uk        Luxembourg   \n",
       "216  Quinlan S. Cantu  pede.Praesent.eu@Aliquam.net  French Polynesia   \n",
       "\n",
       "     Time Spent on Site       Salary  Clicked  \n",
       "457           25.366808  37192.01715        0  \n",
       "216           42.153653  48446.82703        1  "
      ]
     },
     "execution_count": 10,
     "metadata": {},
     "output_type": "execute_result"
    }
   ],
   "source": [
    "df.sample(2)"
   ]
  },
  {
   "cell_type": "code",
   "execution_count": 11,
   "id": "0659bd39",
   "metadata": {},
   "outputs": [],
   "source": [
    "df.drop(columns=['Names','emails'], inplace=True)"
   ]
  },
  {
   "cell_type": "code",
   "execution_count": 12,
   "id": "a70d6c29",
   "metadata": {},
   "outputs": [
    {
     "data": {
      "text/plain": [
       "210"
      ]
     },
     "execution_count": 12,
     "metadata": {},
     "output_type": "execute_result"
    }
   ],
   "source": [
    "df['Country'].nunique()"
   ]
  },
  {
   "cell_type": "code",
   "execution_count": 13,
   "id": "544a0a8b",
   "metadata": {},
   "outputs": [
    {
     "data": {
      "text/plain": [
       "Country\n",
       "Israel                 6\n",
       "Mauritania             6\n",
       "Bolivia                6\n",
       "Greenland              5\n",
       "Saint Barthélemy       5\n",
       "                      ..\n",
       "El Salvador            1\n",
       "Denmark                1\n",
       "Oman                   1\n",
       "Trinidad and Tobago    1\n",
       "Malaysia               1\n",
       "Name: count, Length: 210, dtype: int64"
      ]
     },
     "execution_count": 13,
     "metadata": {},
     "output_type": "execute_result"
    }
   ],
   "source": [
    "df['Country'].value_counts()"
   ]
  },
  {
   "cell_type": "code",
   "execution_count": 14,
   "id": "535b270c",
   "metadata": {},
   "outputs": [
    {
     "data": {
      "text/plain": [
       "499"
      ]
     },
     "execution_count": 14,
     "metadata": {},
     "output_type": "execute_result"
    }
   ],
   "source": [
    "len(df['Country'])"
   ]
  },
  {
   "cell_type": "code",
   "execution_count": 15,
   "id": "03885f2e",
   "metadata": {},
   "outputs": [],
   "source": [
    "df.drop('Country', axis=1, inplace=True)"
   ]
  },
  {
   "cell_type": "code",
   "execution_count": 16,
   "id": "acb1bca0",
   "metadata": {},
   "outputs": [
    {
     "data": {
      "text/html": [
       "<div>\n",
       "<style scoped>\n",
       "    .dataframe tbody tr th:only-of-type {\n",
       "        vertical-align: middle;\n",
       "    }\n",
       "\n",
       "    .dataframe tbody tr th {\n",
       "        vertical-align: top;\n",
       "    }\n",
       "\n",
       "    .dataframe thead th {\n",
       "        text-align: right;\n",
       "    }\n",
       "</style>\n",
       "<table border=\"1\" class=\"dataframe\">\n",
       "  <thead>\n",
       "    <tr style=\"text-align: right;\">\n",
       "      <th></th>\n",
       "      <th>Time Spent on Site</th>\n",
       "      <th>Salary</th>\n",
       "    </tr>\n",
       "  </thead>\n",
       "  <tbody>\n",
       "    <tr>\n",
       "      <th>0</th>\n",
       "      <td>25.649648</td>\n",
       "      <td>55330.06006</td>\n",
       "    </tr>\n",
       "    <tr>\n",
       "      <th>1</th>\n",
       "      <td>32.456107</td>\n",
       "      <td>79049.07674</td>\n",
       "    </tr>\n",
       "    <tr>\n",
       "      <th>2</th>\n",
       "      <td>20.945978</td>\n",
       "      <td>41098.60826</td>\n",
       "    </tr>\n",
       "    <tr>\n",
       "      <th>3</th>\n",
       "      <td>54.039325</td>\n",
       "      <td>37143.35536</td>\n",
       "    </tr>\n",
       "    <tr>\n",
       "      <th>4</th>\n",
       "      <td>34.249729</td>\n",
       "      <td>37355.11276</td>\n",
       "    </tr>\n",
       "    <tr>\n",
       "      <th>...</th>\n",
       "      <td>...</td>\n",
       "      <td>...</td>\n",
       "    </tr>\n",
       "    <tr>\n",
       "      <th>494</th>\n",
       "      <td>19.222746</td>\n",
       "      <td>44969.13495</td>\n",
       "    </tr>\n",
       "    <tr>\n",
       "      <th>495</th>\n",
       "      <td>22.665662</td>\n",
       "      <td>41686.20425</td>\n",
       "    </tr>\n",
       "    <tr>\n",
       "      <th>496</th>\n",
       "      <td>35.320239</td>\n",
       "      <td>23989.80864</td>\n",
       "    </tr>\n",
       "    <tr>\n",
       "      <th>497</th>\n",
       "      <td>26.539170</td>\n",
       "      <td>31708.57054</td>\n",
       "    </tr>\n",
       "    <tr>\n",
       "      <th>498</th>\n",
       "      <td>32.386148</td>\n",
       "      <td>74331.35442</td>\n",
       "    </tr>\n",
       "  </tbody>\n",
       "</table>\n",
       "<p>499 rows × 2 columns</p>\n",
       "</div>"
      ],
      "text/plain": [
       "     Time Spent on Site       Salary\n",
       "0             25.649648  55330.06006\n",
       "1             32.456107  79049.07674\n",
       "2             20.945978  41098.60826\n",
       "3             54.039325  37143.35536\n",
       "4             34.249729  37355.11276\n",
       "..                  ...          ...\n",
       "494           19.222746  44969.13495\n",
       "495           22.665662  41686.20425\n",
       "496           35.320239  23989.80864\n",
       "497           26.539170  31708.57054\n",
       "498           32.386148  74331.35442\n",
       "\n",
       "[499 rows x 2 columns]"
      ]
     },
     "execution_count": 16,
     "metadata": {},
     "output_type": "execute_result"
    }
   ],
   "source": [
    "X = df.drop(\"Clicked\", axis=1)\n",
    "X"
   ]
  },
  {
   "cell_type": "code",
   "execution_count": 17,
   "id": "5f80d683",
   "metadata": {},
   "outputs": [
    {
     "data": {
      "text/plain": [
       "0      0\n",
       "1      1\n",
       "2      0\n",
       "3      1\n",
       "4      0\n",
       "      ..\n",
       "494    0\n",
       "495    0\n",
       "496    0\n",
       "497    0\n",
       "498    1\n",
       "Name: Clicked, Length: 499, dtype: int64"
      ]
     },
     "execution_count": 17,
     "metadata": {},
     "output_type": "execute_result"
    }
   ],
   "source": [
    "y = df['Clicked']\n",
    "y"
   ]
  },
  {
   "cell_type": "code",
   "execution_count": 18,
   "id": "2f2e07b0",
   "metadata": {},
   "outputs": [],
   "source": [
    "from sklearn.preprocessing import MinMaxScaler"
   ]
  },
  {
   "cell_type": "code",
   "execution_count": 19,
   "id": "0b3d2feb",
   "metadata": {},
   "outputs": [],
   "source": [
    "ms = MinMaxScaler()"
   ]
  },
  {
   "cell_type": "code",
   "execution_count": 20,
   "id": "bdc5870b",
   "metadata": {},
   "outputs": [
    {
     "data": {
      "text/plain": [
       "array([[0.37544814, 0.55321124],\n",
       "       [0.49920194, 0.79044886],\n",
       "       [0.28992687, 0.41086826],\n",
       "       [0.89162409, 0.37130782],\n",
       "       [0.53181325, 0.37342581],\n",
       "       [0.85472629, 0.8063878 ],\n",
       "       [0.68875217, 0.61900778],\n",
       "       [0.37594399, 0.29837379],\n",
       "       [0.64905877, 0.34267972],\n",
       "       [0.44886112, 0.41087096],\n",
       "       [0.51404676, 0.54117841],\n",
       "       [0.53692542, 0.30207979],\n",
       "       [0.36933991, 0.43752748],\n",
       "       [0.7552856 , 0.48653225],\n",
       "       [0.59484694, 0.64688915],\n",
       "       [0.36466877, 0.17743483],\n",
       "       [0.65629019, 0.49453272],\n",
       "       [0.35930115, 0.38472118],\n",
       "       [0.79763955, 0.34761396],\n",
       "       [0.41516058, 0.5163482 ],\n",
       "       [0.22006501, 0.61654096],\n",
       "       [0.37450538, 0.53621488],\n",
       "       [0.67725799, 0.3220154 ],\n",
       "       [0.58428949, 0.51724002],\n",
       "       [0.49896566, 0.51668033],\n",
       "       [0.27157589, 0.34250639],\n",
       "       [0.63310071, 0.70497413],\n",
       "       [0.46779736, 0.67015676],\n",
       "       [0.34624696, 0.36462002],\n",
       "       [0.61920065, 0.29164194],\n",
       "       [0.47721732, 0.76059596],\n",
       "       [0.56467994, 0.65195949],\n",
       "       [0.27110861, 0.32881097],\n",
       "       [0.3173814 , 0.47759622],\n",
       "       [0.57755847, 0.53455117],\n",
       "       [0.56286487, 0.23668041],\n",
       "       [0.67254411, 0.54717938],\n",
       "       [0.53712136, 0.78152095],\n",
       "       [0.36051221, 0.4311554 ],\n",
       "       [0.6107577 , 0.54515178],\n",
       "       [0.46391805, 0.12048426],\n",
       "       [0.43536127, 0.29885446],\n",
       "       [0.65425387, 0.4558057 ],\n",
       "       [0.41097892, 0.3222877 ],\n",
       "       [0.25616915, 0.39267743],\n",
       "       [0.25239247, 0.52509497],\n",
       "       [0.28571752, 0.33979848],\n",
       "       [0.40734199, 0.48015626],\n",
       "       [0.61907379, 0.73511281],\n",
       "       [0.56903183, 0.29340693],\n",
       "       [0.61466834, 0.61291173],\n",
       "       [0.3862615 , 0.61339434],\n",
       "       [0.28685257, 0.25627767],\n",
       "       [0.38199636, 0.36935738],\n",
       "       [1.        , 0.76494418],\n",
       "       [0.40785506, 0.40802637],\n",
       "       [0.38886586, 0.37067692],\n",
       "       [0.76491982, 0.8070598 ],\n",
       "       [0.66922981, 0.79519479],\n",
       "       [0.578342  , 0.81278668],\n",
       "       [0.45169462, 1.        ],\n",
       "       [0.67205156, 0.6347195 ],\n",
       "       [0.68924467, 0.55887928],\n",
       "       [0.48215224, 0.3526431 ],\n",
       "       [0.71725975, 0.78035395],\n",
       "       [0.61185546, 0.57784983],\n",
       "       [0.45199538, 0.49454122],\n",
       "       [0.48856516, 0.56854088],\n",
       "       [0.54771465, 0.71474775],\n",
       "       [0.70223599, 0.43927562],\n",
       "       [0.41463169, 0.38638858],\n",
       "       [0.66286505, 0.75918434],\n",
       "       [0.3892771 , 0.5537979 ],\n",
       "       [0.35833695, 0.58156228],\n",
       "       [0.60439933, 0.52831479],\n",
       "       [0.87407104, 0.65337908],\n",
       "       [0.60300886, 0.28714063],\n",
       "       [0.38923955, 0.28334878],\n",
       "       [0.26992167, 0.19279627],\n",
       "       [0.75394957, 0.68981505],\n",
       "       [0.41583189, 0.23537473],\n",
       "       [0.59318307, 0.51027559],\n",
       "       [0.19308232, 0.31516919],\n",
       "       [0.68673131, 0.70645417],\n",
       "       [0.4503642 , 0.72529807],\n",
       "       [0.46501647, 0.65736002],\n",
       "       [0.4857904 , 0.73041543],\n",
       "       [0.66108358, 0.73152477],\n",
       "       [0.40533236, 0.52577563],\n",
       "       [0.37816242, 0.30527246],\n",
       "       [0.62967922, 0.77240683],\n",
       "       [0.27578728, 0.34485382],\n",
       "       [0.71750202, 0.63076779],\n",
       "       [0.12478617, 0.45611202],\n",
       "       [0.79060058, 0.66432937],\n",
       "       [0.25451362, 0.50872412],\n",
       "       [0.35722389, 0.44277888],\n",
       "       [0.43388439, 0.55586404],\n",
       "       [0.14301875, 0.27133706],\n",
       "       [0.5255864 , 0.77606955],\n",
       "       [0.56691854, 0.45140887],\n",
       "       [0.33378811, 0.60413581],\n",
       "       [0.45652241, 0.54933837],\n",
       "       [0.49587054, 0.5201105 ],\n",
       "       [0.60879128, 0.44360475],\n",
       "       [0.5029413 , 0.7500616 ],\n",
       "       [0.38018685, 0.        ],\n",
       "       [0.74303822, 0.96204046],\n",
       "       [0.66366383, 0.65684109],\n",
       "       [0.5185655 , 0.56793288],\n",
       "       [0.66710298, 0.90104158],\n",
       "       [0.52836942, 0.55974172],\n",
       "       [0.6346149 , 0.66286924],\n",
       "       [0.57303312, 0.88042827],\n",
       "       [0.52039358, 0.52337736],\n",
       "       [0.5762474 , 0.84816635],\n",
       "       [0.76368941, 0.67243877],\n",
       "       [0.4687792 , 0.26296894],\n",
       "       [0.6452396 , 0.63507524],\n",
       "       [0.51454882, 0.66598707],\n",
       "       [0.35185944, 0.39929863],\n",
       "       [0.4404992 , 0.65670227],\n",
       "       [0.33461847, 0.65050108],\n",
       "       [0.52097327, 0.55874753],\n",
       "       [0.38917036, 0.42002678],\n",
       "       [0.62632679, 0.81955241],\n",
       "       [0.36936532, 0.82448695],\n",
       "       [0.48980876, 0.18538224],\n",
       "       [0.47759129, 0.4192998 ],\n",
       "       [0.33266826, 0.52555271],\n",
       "       [0.60404375, 0.41190027],\n",
       "       [0.59813418, 0.60263335],\n",
       "       [0.56068742, 0.53715506],\n",
       "       [0.23003685, 0.44471122],\n",
       "       [0.25905119, 0.45516919],\n",
       "       [0.33508287, 0.26201085],\n",
       "       [0.53650081, 0.92846256],\n",
       "       [0.35304105, 0.49650131],\n",
       "       [0.77334313, 0.93023095],\n",
       "       [0.64033836, 0.67485094],\n",
       "       [0.36145499, 0.45913756],\n",
       "       [0.54037986, 0.80741158],\n",
       "       [0.4172727 , 0.56394447],\n",
       "       [0.62453515, 0.73494251],\n",
       "       [0.56744514, 0.59009164],\n",
       "       [0.44488184, 0.691013  ],\n",
       "       [0.10016011, 0.39369804],\n",
       "       [0.55552219, 0.71103494],\n",
       "       [0.40323976, 0.54985544],\n",
       "       [0.33629778, 0.43333762],\n",
       "       [0.36623042, 0.55151346],\n",
       "       [0.64470224, 0.53957074],\n",
       "       [0.61558921, 0.55349888],\n",
       "       [0.44684178, 0.52816719],\n",
       "       [0.46467523, 0.92863628],\n",
       "       [0.46782885, 0.47002128],\n",
       "       [0.43495988, 0.40098833],\n",
       "       [0.55199   , 0.69245675],\n",
       "       [0.58387389, 0.76216781],\n",
       "       [0.50194743, 0.51826013],\n",
       "       [0.79748275, 0.73136481],\n",
       "       [0.50817275, 0.58235841],\n",
       "       [0.64576629, 0.68362327],\n",
       "       [0.82314108, 0.75300314],\n",
       "       [0.37415298, 0.05186207],\n",
       "       [0.42818613, 0.3660892 ],\n",
       "       [0.56078079, 0.34026122],\n",
       "       [0.47214259, 0.7356003 ],\n",
       "       [0.67520054, 0.6025276 ],\n",
       "       [0.50398859, 0.3835586 ],\n",
       "       [0.71687551, 0.86892854],\n",
       "       [0.46614615, 0.64308909],\n",
       "       [0.67547707, 0.24310601],\n",
       "       [0.93517607, 0.60968265],\n",
       "       [0.66852303, 0.47552419],\n",
       "       [0.27799421, 0.45001499],\n",
       "       [0.55593597, 0.83061571],\n",
       "       [0.36817736, 0.30906979],\n",
       "       [0.43741939, 0.54960633],\n",
       "       [0.45175841, 0.56656993],\n",
       "       [0.2487419 , 0.92595266],\n",
       "       [0.75500955, 0.8655227 ],\n",
       "       [0.4513348 , 0.41796435],\n",
       "       [0.3391623 , 0.29794072],\n",
       "       [0.51855709, 0.50878819],\n",
       "       [0.52085208, 0.32280202],\n",
       "       [0.44186317, 0.67184351],\n",
       "       [0.76354919, 0.89225425],\n",
       "       [0.48135328, 0.24368378],\n",
       "       [0.60585981, 0.53351055],\n",
       "       [0.84258481, 0.45675422],\n",
       "       [0.10663376, 0.15792972],\n",
       "       [0.3550953 , 0.52058436],\n",
       "       [0.44471621, 0.37076568],\n",
       "       [0.57447911, 0.72237836],\n",
       "       [0.5170446 , 0.41762214],\n",
       "       [0.55448893, 0.6581611 ],\n",
       "       [0.56047627, 0.3869247 ],\n",
       "       [0.64587454, 0.77370483],\n",
       "       [0.31637356, 0.48421713],\n",
       "       [0.56453372, 0.61225703],\n",
       "       [0.28330704, 0.26862343],\n",
       "       [0.48325812, 0.33452152],\n",
       "       [0.41226933, 0.47805886],\n",
       "       [0.54446625, 0.39803172],\n",
       "       [0.83609822, 0.63687785],\n",
       "       [0.43108023, 0.62050031],\n",
       "       [0.29191059, 0.58080517],\n",
       "       [0.45937939, 0.84097093],\n",
       "       [0.49686571, 0.38902415],\n",
       "       [0.75697943, 0.63846196],\n",
       "       [0.31702763, 0.52842067],\n",
       "       [0.22683815, 0.41452243],\n",
       "       [0.54373934, 0.3997879 ],\n",
       "       [0.49453907, 0.31270989],\n",
       "       [0.46490807, 0.67956506],\n",
       "       [0.67552096, 0.48436514],\n",
       "       [0.52244803, 0.64382021],\n",
       "       [0.54259891, 0.3713306 ],\n",
       "       [0.33458943, 0.49698853],\n",
       "       [0.74320134, 0.51278261],\n",
       "       [0.53069636, 0.1562177 ],\n",
       "       [0.66724855, 0.40202117],\n",
       "       [0.42501708, 0.90142131],\n",
       "       [0.61687173, 0.67619558],\n",
       "       [0.43956708, 0.37672396],\n",
       "       [0.55499447, 0.5763292 ],\n",
       "       [0.71130321, 0.55544684],\n",
       "       [0.29487698, 0.35103321],\n",
       "       [0.51798553, 0.81819704],\n",
       "       [0.37100602, 0.1852544 ],\n",
       "       [0.38253004, 0.74906025],\n",
       "       [0.58679293, 0.51865352],\n",
       "       [0.39610085, 0.51681663],\n",
       "       [0.71337197, 0.90457433],\n",
       "       [0.52394206, 0.46052924],\n",
       "       [0.71247115, 0.65238922],\n",
       "       [0.57190124, 0.4909265 ],\n",
       "       [0.26779204, 0.42864741],\n",
       "       [0.48042493, 0.63020261],\n",
       "       [0.82232145, 0.31693658],\n",
       "       [0.27435801, 0.37737998],\n",
       "       [0.49083822, 0.42408141],\n",
       "       [0.25551286, 0.47540463],\n",
       "       [0.32653839, 0.35035068],\n",
       "       [0.64549896, 0.52614172],\n",
       "       [0.27125732, 0.30187292],\n",
       "       [0.87551052, 0.43282164],\n",
       "       [0.20506439, 0.38142047],\n",
       "       [0.51981465, 0.58825446],\n",
       "       [0.55135802, 0.82280064],\n",
       "       [0.41199309, 0.19846377],\n",
       "       [0.47244956, 0.1315888 ],\n",
       "       [0.66596898, 0.63116303],\n",
       "       [0.41053898, 0.58085585],\n",
       "       [0.68944573, 0.58272765],\n",
       "       [0.44533676, 0.37599358],\n",
       "       [0.66729137, 0.80539213],\n",
       "       [0.51868752, 0.61622752],\n",
       "       [0.41968759, 0.53870639],\n",
       "       [0.72066833, 0.31269117],\n",
       "       [0.62273745, 0.42493379],\n",
       "       [0.87362593, 0.73037949],\n",
       "       [0.64112906, 0.60273761],\n",
       "       [0.35334255, 0.20918935],\n",
       "       [0.19362962, 0.4874564 ],\n",
       "       [0.44196464, 0.38228869],\n",
       "       [0.72138582, 0.57209442],\n",
       "       [0.56630147, 0.7015726 ],\n",
       "       [0.71158948, 0.59148278],\n",
       "       [0.47321612, 0.35328337],\n",
       "       [0.78078628, 0.60408785],\n",
       "       [0.7136438 , 0.79675073],\n",
       "       [0.4447988 , 0.50873115],\n",
       "       [0.46706115, 0.81125837],\n",
       "       [0.65640626, 0.82401463],\n",
       "       [0.24156351, 0.33723294],\n",
       "       [0.68162851, 0.68047957],\n",
       "       [0.23965976, 0.76630812],\n",
       "       [0.83410687, 0.53552937],\n",
       "       [0.28169313, 0.45718095],\n",
       "       [0.43419681, 0.37580291],\n",
       "       [0.67394348, 0.83274203],\n",
       "       [0.3898154 , 0.42004404],\n",
       "       [0.42275214, 0.57267183],\n",
       "       [0.81899371, 0.69455218],\n",
       "       [0.32050245, 0.25016152],\n",
       "       [0.75080005, 0.51521386],\n",
       "       [0.51005631, 0.74324182],\n",
       "       [0.79626206, 0.55624163],\n",
       "       [0.46160972, 0.33474549],\n",
       "       [0.4128516 , 0.48649297],\n",
       "       [0.64208178, 0.31610386],\n",
       "       [0.32826488, 0.3796852 ],\n",
       "       [0.73626736, 0.67654411],\n",
       "       [0.60768007, 0.60886398],\n",
       "       [0.57853614, 0.7509444 ],\n",
       "       [0.47927305, 0.5464651 ],\n",
       "       [0.12602304, 0.54084456],\n",
       "       [0.57274694, 0.48306789],\n",
       "       [0.25987056, 0.50981626],\n",
       "       [0.49520982, 0.30758482],\n",
       "       [0.88480392, 0.53200999],\n",
       "       [0.19194761, 0.5504392 ],\n",
       "       [0.52530759, 0.58179413],\n",
       "       [0.70931829, 0.62846988],\n",
       "       [0.14944012, 0.41675157],\n",
       "       [0.31749524, 0.07032191],\n",
       "       [0.70691724, 0.77367122],\n",
       "       [0.45433596, 0.77055165],\n",
       "       [0.40041029, 0.49785214],\n",
       "       [0.47003166, 0.30548481],\n",
       "       [0.47216122, 0.29710763],\n",
       "       [0.61128099, 0.4833311 ],\n",
       "       [0.67291494, 0.62037826],\n",
       "       [0.35697749, 0.27778014],\n",
       "       [0.16328823, 0.45611863],\n",
       "       [0.75278485, 0.56080057],\n",
       "       [0.43191031, 0.69124616],\n",
       "       [0.2532717 , 0.64973501],\n",
       "       [0.55195835, 0.25135514],\n",
       "       [0.89096308, 0.44362271],\n",
       "       [0.69404925, 0.41021257],\n",
       "       [0.5272294 , 0.38260935],\n",
       "       [0.62134461, 0.77895761],\n",
       "       [0.57469447, 0.65037069],\n",
       "       [0.68915169, 0.78397352],\n",
       "       [0.5921248 , 0.4037163 ],\n",
       "       [0.04584508, 0.22823819],\n",
       "       [0.49918502, 0.31517427],\n",
       "       [0.70456318, 0.50768151],\n",
       "       [0.71910409, 0.58589986],\n",
       "       [0.43980532, 0.5266794 ],\n",
       "       [0.54371943, 0.55856136],\n",
       "       [0.5856975 , 0.55828381],\n",
       "       [0.53863325, 0.61688671],\n",
       "       [0.49136127, 0.50518091],\n",
       "       [0.58688097, 0.50148775],\n",
       "       [0.78818056, 0.5499764 ],\n",
       "       [0.64156282, 0.20243564],\n",
       "       [0.47289444, 0.51153222],\n",
       "       [0.63366237, 0.94949411],\n",
       "       [0.51265575, 0.89049803],\n",
       "       [0.7393364 , 0.77875042],\n",
       "       [0.64775567, 0.59469276],\n",
       "       [0.75871288, 0.69910651],\n",
       "       [0.43722047, 0.39093539],\n",
       "       [0.59349597, 0.46725808],\n",
       "       [0.51859816, 0.50692662],\n",
       "       [0.35743173, 0.36524132],\n",
       "       [0.42494361, 0.25918456],\n",
       "       [0.46165639, 0.59511333],\n",
       "       [0.59149491, 0.53031219],\n",
       "       [0.34758162, 0.47688363],\n",
       "       [0.45015959, 0.30431246],\n",
       "       [0.52252334, 0.70027414],\n",
       "       [0.62919249, 0.6181333 ],\n",
       "       [0.59478818, 0.55633925],\n",
       "       [0.48068408, 0.75515366],\n",
       "       [0.65018965, 0.60957623],\n",
       "       [0.74383409, 0.73368557],\n",
       "       [0.11729757, 0.35030634],\n",
       "       [0.57952567, 0.8790557 ],\n",
       "       [0.63871629, 0.75589175],\n",
       "       [0.27877289, 0.38045016],\n",
       "       [0.2964431 , 0.67161615],\n",
       "       [0.21994485, 0.59220702],\n",
       "       [0.72111704, 0.75421365],\n",
       "       [0.37026198, 0.56305111],\n",
       "       [0.33056707, 0.42321017],\n",
       "       [0.39842719, 0.6141073 ],\n",
       "       [0.5318114 , 0.40961105],\n",
       "       [0.41047961, 0.65844799],\n",
       "       [0.52436007, 0.19015777],\n",
       "       [0.50869555, 0.80707996],\n",
       "       [0.48336027, 0.29410174],\n",
       "       [0.51172188, 0.82690352],\n",
       "       [0.25029221, 0.39401841],\n",
       "       [0.61448062, 0.72996765],\n",
       "       [0.56062547, 0.55324792],\n",
       "       [0.68445163, 0.6925648 ],\n",
       "       [0.5290584 , 0.74663595],\n",
       "       [0.38800308, 0.37212661],\n",
       "       [0.69347269, 0.638247  ],\n",
       "       [0.44524414, 0.25967869],\n",
       "       [0.28958259, 0.48441474],\n",
       "       [0.39307276, 0.76500859],\n",
       "       [0.84570426, 0.72730106],\n",
       "       [0.62474958, 0.80905365],\n",
       "       [0.41219054, 0.03973949],\n",
       "       [0.45806476, 0.43810523],\n",
       "       [0.66555644, 0.80801845],\n",
       "       [0.20540622, 0.32907104],\n",
       "       [0.38724237, 0.65391602],\n",
       "       [0.57269276, 0.9431432 ],\n",
       "       [0.69676073, 0.59938702],\n",
       "       [0.54476832, 0.60066251],\n",
       "       [0.34714458, 0.18891451],\n",
       "       [0.54722651, 0.6963107 ],\n",
       "       [0.6265732 , 0.33830423],\n",
       "       [0.63902585, 0.74439638],\n",
       "       [0.42089203, 0.6287331 ],\n",
       "       [0.45719946, 0.20191641],\n",
       "       [0.41327096, 0.47082958],\n",
       "       [0.34496387, 0.25695996],\n",
       "       [0.47121502, 0.19107288],\n",
       "       [0.37366828, 0.21060816],\n",
       "       [0.60447299, 0.95099142],\n",
       "       [0.5873385 , 0.62045389],\n",
       "       [0.37653204, 0.55555987],\n",
       "       [0.61124943, 0.58356881],\n",
       "       [0.2907822 , 0.36158586],\n",
       "       [0.36740729, 0.77883681],\n",
       "       [0.44948765, 0.77235909],\n",
       "       [0.5624134 , 0.31630327],\n",
       "       [0.81011304, 0.66147956],\n",
       "       [0.55939392, 0.85659539],\n",
       "       [0.41651537, 0.39603312],\n",
       "       [0.72524098, 0.54673818],\n",
       "       [0.56467388, 0.50095894],\n",
       "       [0.53610243, 0.22588932],\n",
       "       [0.59143461, 0.62842894],\n",
       "       [0.32890964, 0.40636821],\n",
       "       [0.45768714, 0.18760709],\n",
       "       [0.69430343, 0.90492205],\n",
       "       [0.75369229, 0.7048076 ],\n",
       "       [0.55115041, 0.54837002],\n",
       "       [0.45860144, 0.33452995],\n",
       "       [0.71902964, 0.65076789],\n",
       "       [0.36825776, 0.4474548 ],\n",
       "       [0.47603558, 0.60764578],\n",
       "       [0.67733353, 0.66557347],\n",
       "       [0.45982795, 0.65125022],\n",
       "       [0.45003216, 0.53548059],\n",
       "       [0.55732408, 0.76486042],\n",
       "       [0.14898281, 0.24215931],\n",
       "       [0.3707506 , 0.4763546 ],\n",
       "       [0.61241217, 0.4322515 ],\n",
       "       [0.61116724, 0.67128594],\n",
       "       [0.54090387, 0.49042712],\n",
       "       [0.44366033, 0.50768493],\n",
       "       [0.44462869, 0.13990596],\n",
       "       [0.51330447, 0.33765859],\n",
       "       [0.05026132, 0.34207957],\n",
       "       [0.29770599, 0.3884937 ],\n",
       "       [0.35835671, 0.69664737],\n",
       "       [0.50818655, 0.43123764],\n",
       "       [0.43494183, 0.27497589],\n",
       "       [0.48751187, 0.35686826],\n",
       "       [0.40617365, 0.41545271],\n",
       "       [0.58180407, 0.44957813],\n",
       "       [0.52364797, 0.45492075],\n",
       "       [0.55102766, 0.12301425],\n",
       "       [0.43921189, 0.3938216 ],\n",
       "       [0.59246931, 0.2375887 ],\n",
       "       [0.58336554, 0.91567286],\n",
       "       [0.18269721, 0.97645749],\n",
       "       [0.37030561, 0.37179453],\n",
       "       [0.56953655, 0.76543461],\n",
       "       [0.5803561 , 0.61660892],\n",
       "       [0.40828157, 0.40094624],\n",
       "       [0.59544635, 0.73682213],\n",
       "       [0.32553696, 0.34485556],\n",
       "       [0.58496874, 0.63093291],\n",
       "       [0.81761332, 0.71838338],\n",
       "       [0.71818557, 0.5213071 ],\n",
       "       [0.60009223, 0.62997141],\n",
       "       [0.39166805, 0.50958179],\n",
       "       [0.66722777, 0.5451189 ],\n",
       "       [0.462437  , 0.40434935],\n",
       "       [0.42316979, 0.82392115],\n",
       "       [0.64975053, 0.35310263],\n",
       "       [0.3373941 , 0.4306118 ],\n",
       "       [0.59714678, 0.57832926],\n",
       "       [0.72533576, 0.71834772],\n",
       "       [0.33231421, 0.40753194],\n",
       "       [0.58208901, 0.73051855],\n",
       "       [0.3652294 , 0.61645712],\n",
       "       [0.28556547, 0.07129149],\n",
       "       [0.6761869 , 0.4801017 ],\n",
       "       [0.68882359, 0.58153916],\n",
       "       [0.3170816 , 0.35905029],\n",
       "       [0.59407379, 0.62026891],\n",
       "       [0.28037986, 0.40102177],\n",
       "       [0.58004323, 0.32569538],\n",
       "       [0.51543703, 0.52011319],\n",
       "       [0.6644419 , 0.55783855],\n",
       "       [0.69602884, 0.54114469],\n",
       "       [0.35147372, 0.5986549 ],\n",
       "       [0.34300674, 0.23424553],\n",
       "       [0.54233279, 0.50141354],\n",
       "       [0.58496756, 0.63743164],\n",
       "       [0.        , 0.4731903 ],\n",
       "       [0.3566405 , 0.3470869 ],\n",
       "       [0.25859539, 0.44958127],\n",
       "       [0.32119385, 0.41674539],\n",
       "       [0.55127707, 0.23974604],\n",
       "       [0.39162128, 0.3169491 ],\n",
       "       [0.49792996, 0.7432622 ]])"
      ]
     },
     "execution_count": 20,
     "metadata": {},
     "output_type": "execute_result"
    }
   ],
   "source": [
    "X = ms.fit_transform(X)\n",
    "X"
   ]
  },
  {
   "cell_type": "code",
   "execution_count": 21,
   "id": "74d89100",
   "metadata": {},
   "outputs": [
    {
     "data": {
      "text/plain": [
       "0      0\n",
       "1      1\n",
       "2      0\n",
       "3      1\n",
       "4      0\n",
       "      ..\n",
       "494    0\n",
       "495    0\n",
       "496    0\n",
       "497    0\n",
       "498    1\n",
       "Name: Clicked, Length: 499, dtype: int64"
      ]
     },
     "execution_count": 21,
     "metadata": {},
     "output_type": "execute_result"
    }
   ],
   "source": [
    "y"
   ]
  },
  {
   "cell_type": "code",
   "execution_count": 22,
   "id": "5c81c4fa",
   "metadata": {},
   "outputs": [],
   "source": [
    "from sklearn.model_selection import train_test_split"
   ]
  },
  {
   "cell_type": "code",
   "execution_count": 23,
   "id": "cce22b2c",
   "metadata": {},
   "outputs": [],
   "source": [
    "X_train, X_test, y_train, y_test = train_test_split(X, y, test_size=0.33, random_state=42)"
   ]
  },
  {
   "cell_type": "code",
   "execution_count": null,
   "id": "faa8f87d",
   "metadata": {},
   "outputs": [],
   "source": []
  },
  {
   "cell_type": "markdown",
   "id": "e526f479",
   "metadata": {},
   "source": [
    "### model building & training"
   ]
  },
  {
   "cell_type": "code",
   "execution_count": 24,
   "id": "33a6a09a",
   "metadata": {},
   "outputs": [],
   "source": [
    "from sklearn.linear_model import LogisticRegression"
   ]
  },
  {
   "cell_type": "code",
   "execution_count": 25,
   "id": "d17a9864",
   "metadata": {},
   "outputs": [],
   "source": [
    "clf = LogisticRegression()"
   ]
  },
  {
   "cell_type": "code",
   "execution_count": 26,
   "id": "549bfd30",
   "metadata": {},
   "outputs": [
    {
     "data": {
      "text/html": [
       "<style>#sk-container-id-1 {\n",
       "  /* Definition of color scheme common for light and dark mode */\n",
       "  --sklearn-color-text: black;\n",
       "  --sklearn-color-line: gray;\n",
       "  /* Definition of color scheme for unfitted estimators */\n",
       "  --sklearn-color-unfitted-level-0: #fff5e6;\n",
       "  --sklearn-color-unfitted-level-1: #f6e4d2;\n",
       "  --sklearn-color-unfitted-level-2: #ffe0b3;\n",
       "  --sklearn-color-unfitted-level-3: chocolate;\n",
       "  /* Definition of color scheme for fitted estimators */\n",
       "  --sklearn-color-fitted-level-0: #f0f8ff;\n",
       "  --sklearn-color-fitted-level-1: #d4ebff;\n",
       "  --sklearn-color-fitted-level-2: #b3dbfd;\n",
       "  --sklearn-color-fitted-level-3: cornflowerblue;\n",
       "\n",
       "  /* Specific color for light theme */\n",
       "  --sklearn-color-text-on-default-background: var(--sg-text-color, var(--theme-code-foreground, var(--jp-content-font-color1, black)));\n",
       "  --sklearn-color-background: var(--sg-background-color, var(--theme-background, var(--jp-layout-color0, white)));\n",
       "  --sklearn-color-border-box: var(--sg-text-color, var(--theme-code-foreground, var(--jp-content-font-color1, black)));\n",
       "  --sklearn-color-icon: #696969;\n",
       "\n",
       "  @media (prefers-color-scheme: dark) {\n",
       "    /* Redefinition of color scheme for dark theme */\n",
       "    --sklearn-color-text-on-default-background: var(--sg-text-color, var(--theme-code-foreground, var(--jp-content-font-color1, white)));\n",
       "    --sklearn-color-background: var(--sg-background-color, var(--theme-background, var(--jp-layout-color0, #111)));\n",
       "    --sklearn-color-border-box: var(--sg-text-color, var(--theme-code-foreground, var(--jp-content-font-color1, white)));\n",
       "    --sklearn-color-icon: #878787;\n",
       "  }\n",
       "}\n",
       "\n",
       "#sk-container-id-1 {\n",
       "  color: var(--sklearn-color-text);\n",
       "}\n",
       "\n",
       "#sk-container-id-1 pre {\n",
       "  padding: 0;\n",
       "}\n",
       "\n",
       "#sk-container-id-1 input.sk-hidden--visually {\n",
       "  border: 0;\n",
       "  clip: rect(1px 1px 1px 1px);\n",
       "  clip: rect(1px, 1px, 1px, 1px);\n",
       "  height: 1px;\n",
       "  margin: -1px;\n",
       "  overflow: hidden;\n",
       "  padding: 0;\n",
       "  position: absolute;\n",
       "  width: 1px;\n",
       "}\n",
       "\n",
       "#sk-container-id-1 div.sk-dashed-wrapped {\n",
       "  border: 1px dashed var(--sklearn-color-line);\n",
       "  margin: 0 0.4em 0.5em 0.4em;\n",
       "  box-sizing: border-box;\n",
       "  padding-bottom: 0.4em;\n",
       "  background-color: var(--sklearn-color-background);\n",
       "}\n",
       "\n",
       "#sk-container-id-1 div.sk-container {\n",
       "  /* jupyter's `normalize.less` sets `[hidden] { display: none; }`\n",
       "     but bootstrap.min.css set `[hidden] { display: none !important; }`\n",
       "     so we also need the `!important` here to be able to override the\n",
       "     default hidden behavior on the sphinx rendered scikit-learn.org.\n",
       "     See: https://github.com/scikit-learn/scikit-learn/issues/21755 */\n",
       "  display: inline-block !important;\n",
       "  position: relative;\n",
       "}\n",
       "\n",
       "#sk-container-id-1 div.sk-text-repr-fallback {\n",
       "  display: none;\n",
       "}\n",
       "\n",
       "div.sk-parallel-item,\n",
       "div.sk-serial,\n",
       "div.sk-item {\n",
       "  /* draw centered vertical line to link estimators */\n",
       "  background-image: linear-gradient(var(--sklearn-color-text-on-default-background), var(--sklearn-color-text-on-default-background));\n",
       "  background-size: 2px 100%;\n",
       "  background-repeat: no-repeat;\n",
       "  background-position: center center;\n",
       "}\n",
       "\n",
       "/* Parallel-specific style estimator block */\n",
       "\n",
       "#sk-container-id-1 div.sk-parallel-item::after {\n",
       "  content: \"\";\n",
       "  width: 100%;\n",
       "  border-bottom: 2px solid var(--sklearn-color-text-on-default-background);\n",
       "  flex-grow: 1;\n",
       "}\n",
       "\n",
       "#sk-container-id-1 div.sk-parallel {\n",
       "  display: flex;\n",
       "  align-items: stretch;\n",
       "  justify-content: center;\n",
       "  background-color: var(--sklearn-color-background);\n",
       "  position: relative;\n",
       "}\n",
       "\n",
       "#sk-container-id-1 div.sk-parallel-item {\n",
       "  display: flex;\n",
       "  flex-direction: column;\n",
       "}\n",
       "\n",
       "#sk-container-id-1 div.sk-parallel-item:first-child::after {\n",
       "  align-self: flex-end;\n",
       "  width: 50%;\n",
       "}\n",
       "\n",
       "#sk-container-id-1 div.sk-parallel-item:last-child::after {\n",
       "  align-self: flex-start;\n",
       "  width: 50%;\n",
       "}\n",
       "\n",
       "#sk-container-id-1 div.sk-parallel-item:only-child::after {\n",
       "  width: 0;\n",
       "}\n",
       "\n",
       "/* Serial-specific style estimator block */\n",
       "\n",
       "#sk-container-id-1 div.sk-serial {\n",
       "  display: flex;\n",
       "  flex-direction: column;\n",
       "  align-items: center;\n",
       "  background-color: var(--sklearn-color-background);\n",
       "  padding-right: 1em;\n",
       "  padding-left: 1em;\n",
       "}\n",
       "\n",
       "\n",
       "/* Toggleable style: style used for estimator/Pipeline/ColumnTransformer box that is\n",
       "clickable and can be expanded/collapsed.\n",
       "- Pipeline and ColumnTransformer use this feature and define the default style\n",
       "- Estimators will overwrite some part of the style using the `sk-estimator` class\n",
       "*/\n",
       "\n",
       "/* Pipeline and ColumnTransformer style (default) */\n",
       "\n",
       "#sk-container-id-1 div.sk-toggleable {\n",
       "  /* Default theme specific background. It is overwritten whether we have a\n",
       "  specific estimator or a Pipeline/ColumnTransformer */\n",
       "  background-color: var(--sklearn-color-background);\n",
       "}\n",
       "\n",
       "/* Toggleable label */\n",
       "#sk-container-id-1 label.sk-toggleable__label {\n",
       "  cursor: pointer;\n",
       "  display: block;\n",
       "  width: 100%;\n",
       "  margin-bottom: 0;\n",
       "  padding: 0.5em;\n",
       "  box-sizing: border-box;\n",
       "  text-align: center;\n",
       "}\n",
       "\n",
       "#sk-container-id-1 label.sk-toggleable__label-arrow:before {\n",
       "  /* Arrow on the left of the label */\n",
       "  content: \"▸\";\n",
       "  float: left;\n",
       "  margin-right: 0.25em;\n",
       "  color: var(--sklearn-color-icon);\n",
       "}\n",
       "\n",
       "#sk-container-id-1 label.sk-toggleable__label-arrow:hover:before {\n",
       "  color: var(--sklearn-color-text);\n",
       "}\n",
       "\n",
       "/* Toggleable content - dropdown */\n",
       "\n",
       "#sk-container-id-1 div.sk-toggleable__content {\n",
       "  max-height: 0;\n",
       "  max-width: 0;\n",
       "  overflow: hidden;\n",
       "  text-align: left;\n",
       "  /* unfitted */\n",
       "  background-color: var(--sklearn-color-unfitted-level-0);\n",
       "}\n",
       "\n",
       "#sk-container-id-1 div.sk-toggleable__content.fitted {\n",
       "  /* fitted */\n",
       "  background-color: var(--sklearn-color-fitted-level-0);\n",
       "}\n",
       "\n",
       "#sk-container-id-1 div.sk-toggleable__content pre {\n",
       "  margin: 0.2em;\n",
       "  border-radius: 0.25em;\n",
       "  color: var(--sklearn-color-text);\n",
       "  /* unfitted */\n",
       "  background-color: var(--sklearn-color-unfitted-level-0);\n",
       "}\n",
       "\n",
       "#sk-container-id-1 div.sk-toggleable__content.fitted pre {\n",
       "  /* unfitted */\n",
       "  background-color: var(--sklearn-color-fitted-level-0);\n",
       "}\n",
       "\n",
       "#sk-container-id-1 input.sk-toggleable__control:checked~div.sk-toggleable__content {\n",
       "  /* Expand drop-down */\n",
       "  max-height: 200px;\n",
       "  max-width: 100%;\n",
       "  overflow: auto;\n",
       "}\n",
       "\n",
       "#sk-container-id-1 input.sk-toggleable__control:checked~label.sk-toggleable__label-arrow:before {\n",
       "  content: \"▾\";\n",
       "}\n",
       "\n",
       "/* Pipeline/ColumnTransformer-specific style */\n",
       "\n",
       "#sk-container-id-1 div.sk-label input.sk-toggleable__control:checked~label.sk-toggleable__label {\n",
       "  color: var(--sklearn-color-text);\n",
       "  background-color: var(--sklearn-color-unfitted-level-2);\n",
       "}\n",
       "\n",
       "#sk-container-id-1 div.sk-label.fitted input.sk-toggleable__control:checked~label.sk-toggleable__label {\n",
       "  background-color: var(--sklearn-color-fitted-level-2);\n",
       "}\n",
       "\n",
       "/* Estimator-specific style */\n",
       "\n",
       "/* Colorize estimator box */\n",
       "#sk-container-id-1 div.sk-estimator input.sk-toggleable__control:checked~label.sk-toggleable__label {\n",
       "  /* unfitted */\n",
       "  background-color: var(--sklearn-color-unfitted-level-2);\n",
       "}\n",
       "\n",
       "#sk-container-id-1 div.sk-estimator.fitted input.sk-toggleable__control:checked~label.sk-toggleable__label {\n",
       "  /* fitted */\n",
       "  background-color: var(--sklearn-color-fitted-level-2);\n",
       "}\n",
       "\n",
       "#sk-container-id-1 div.sk-label label.sk-toggleable__label,\n",
       "#sk-container-id-1 div.sk-label label {\n",
       "  /* The background is the default theme color */\n",
       "  color: var(--sklearn-color-text-on-default-background);\n",
       "}\n",
       "\n",
       "/* On hover, darken the color of the background */\n",
       "#sk-container-id-1 div.sk-label:hover label.sk-toggleable__label {\n",
       "  color: var(--sklearn-color-text);\n",
       "  background-color: var(--sklearn-color-unfitted-level-2);\n",
       "}\n",
       "\n",
       "/* Label box, darken color on hover, fitted */\n",
       "#sk-container-id-1 div.sk-label.fitted:hover label.sk-toggleable__label.fitted {\n",
       "  color: var(--sklearn-color-text);\n",
       "  background-color: var(--sklearn-color-fitted-level-2);\n",
       "}\n",
       "\n",
       "/* Estimator label */\n",
       "\n",
       "#sk-container-id-1 div.sk-label label {\n",
       "  font-family: monospace;\n",
       "  font-weight: bold;\n",
       "  display: inline-block;\n",
       "  line-height: 1.2em;\n",
       "}\n",
       "\n",
       "#sk-container-id-1 div.sk-label-container {\n",
       "  text-align: center;\n",
       "}\n",
       "\n",
       "/* Estimator-specific */\n",
       "#sk-container-id-1 div.sk-estimator {\n",
       "  font-family: monospace;\n",
       "  border: 1px dotted var(--sklearn-color-border-box);\n",
       "  border-radius: 0.25em;\n",
       "  box-sizing: border-box;\n",
       "  margin-bottom: 0.5em;\n",
       "  /* unfitted */\n",
       "  background-color: var(--sklearn-color-unfitted-level-0);\n",
       "}\n",
       "\n",
       "#sk-container-id-1 div.sk-estimator.fitted {\n",
       "  /* fitted */\n",
       "  background-color: var(--sklearn-color-fitted-level-0);\n",
       "}\n",
       "\n",
       "/* on hover */\n",
       "#sk-container-id-1 div.sk-estimator:hover {\n",
       "  /* unfitted */\n",
       "  background-color: var(--sklearn-color-unfitted-level-2);\n",
       "}\n",
       "\n",
       "#sk-container-id-1 div.sk-estimator.fitted:hover {\n",
       "  /* fitted */\n",
       "  background-color: var(--sklearn-color-fitted-level-2);\n",
       "}\n",
       "\n",
       "/* Specification for estimator info (e.g. \"i\" and \"?\") */\n",
       "\n",
       "/* Common style for \"i\" and \"?\" */\n",
       "\n",
       ".sk-estimator-doc-link,\n",
       "a:link.sk-estimator-doc-link,\n",
       "a:visited.sk-estimator-doc-link {\n",
       "  float: right;\n",
       "  font-size: smaller;\n",
       "  line-height: 1em;\n",
       "  font-family: monospace;\n",
       "  background-color: var(--sklearn-color-background);\n",
       "  border-radius: 1em;\n",
       "  height: 1em;\n",
       "  width: 1em;\n",
       "  text-decoration: none !important;\n",
       "  margin-left: 1ex;\n",
       "  /* unfitted */\n",
       "  border: var(--sklearn-color-unfitted-level-1) 1pt solid;\n",
       "  color: var(--sklearn-color-unfitted-level-1);\n",
       "}\n",
       "\n",
       ".sk-estimator-doc-link.fitted,\n",
       "a:link.sk-estimator-doc-link.fitted,\n",
       "a:visited.sk-estimator-doc-link.fitted {\n",
       "  /* fitted */\n",
       "  border: var(--sklearn-color-fitted-level-1) 1pt solid;\n",
       "  color: var(--sklearn-color-fitted-level-1);\n",
       "}\n",
       "\n",
       "/* On hover */\n",
       "div.sk-estimator:hover .sk-estimator-doc-link:hover,\n",
       ".sk-estimator-doc-link:hover,\n",
       "div.sk-label-container:hover .sk-estimator-doc-link:hover,\n",
       ".sk-estimator-doc-link:hover {\n",
       "  /* unfitted */\n",
       "  background-color: var(--sklearn-color-unfitted-level-3);\n",
       "  color: var(--sklearn-color-background);\n",
       "  text-decoration: none;\n",
       "}\n",
       "\n",
       "div.sk-estimator.fitted:hover .sk-estimator-doc-link.fitted:hover,\n",
       ".sk-estimator-doc-link.fitted:hover,\n",
       "div.sk-label-container:hover .sk-estimator-doc-link.fitted:hover,\n",
       ".sk-estimator-doc-link.fitted:hover {\n",
       "  /* fitted */\n",
       "  background-color: var(--sklearn-color-fitted-level-3);\n",
       "  color: var(--sklearn-color-background);\n",
       "  text-decoration: none;\n",
       "}\n",
       "\n",
       "/* Span, style for the box shown on hovering the info icon */\n",
       ".sk-estimator-doc-link span {\n",
       "  display: none;\n",
       "  z-index: 9999;\n",
       "  position: relative;\n",
       "  font-weight: normal;\n",
       "  right: .2ex;\n",
       "  padding: .5ex;\n",
       "  margin: .5ex;\n",
       "  width: min-content;\n",
       "  min-width: 20ex;\n",
       "  max-width: 50ex;\n",
       "  color: var(--sklearn-color-text);\n",
       "  box-shadow: 2pt 2pt 4pt #999;\n",
       "  /* unfitted */\n",
       "  background: var(--sklearn-color-unfitted-level-0);\n",
       "  border: .5pt solid var(--sklearn-color-unfitted-level-3);\n",
       "}\n",
       "\n",
       ".sk-estimator-doc-link.fitted span {\n",
       "  /* fitted */\n",
       "  background: var(--sklearn-color-fitted-level-0);\n",
       "  border: var(--sklearn-color-fitted-level-3);\n",
       "}\n",
       "\n",
       ".sk-estimator-doc-link:hover span {\n",
       "  display: block;\n",
       "}\n",
       "\n",
       "/* \"?\"-specific style due to the `<a>` HTML tag */\n",
       "\n",
       "#sk-container-id-1 a.estimator_doc_link {\n",
       "  float: right;\n",
       "  font-size: 1rem;\n",
       "  line-height: 1em;\n",
       "  font-family: monospace;\n",
       "  background-color: var(--sklearn-color-background);\n",
       "  border-radius: 1rem;\n",
       "  height: 1rem;\n",
       "  width: 1rem;\n",
       "  text-decoration: none;\n",
       "  /* unfitted */\n",
       "  color: var(--sklearn-color-unfitted-level-1);\n",
       "  border: var(--sklearn-color-unfitted-level-1) 1pt solid;\n",
       "}\n",
       "\n",
       "#sk-container-id-1 a.estimator_doc_link.fitted {\n",
       "  /* fitted */\n",
       "  border: var(--sklearn-color-fitted-level-1) 1pt solid;\n",
       "  color: var(--sklearn-color-fitted-level-1);\n",
       "}\n",
       "\n",
       "/* On hover */\n",
       "#sk-container-id-1 a.estimator_doc_link:hover {\n",
       "  /* unfitted */\n",
       "  background-color: var(--sklearn-color-unfitted-level-3);\n",
       "  color: var(--sklearn-color-background);\n",
       "  text-decoration: none;\n",
       "}\n",
       "\n",
       "#sk-container-id-1 a.estimator_doc_link.fitted:hover {\n",
       "  /* fitted */\n",
       "  background-color: var(--sklearn-color-fitted-level-3);\n",
       "}\n",
       "</style><div id=\"sk-container-id-1\" class=\"sk-top-container\"><div class=\"sk-text-repr-fallback\"><pre>LogisticRegression()</pre><b>In a Jupyter environment, please rerun this cell to show the HTML representation or trust the notebook. <br />On GitHub, the HTML representation is unable to render, please try loading this page with nbviewer.org.</b></div><div class=\"sk-container\" hidden><div class=\"sk-item\"><div class=\"sk-estimator fitted sk-toggleable\"><input class=\"sk-toggleable__control sk-hidden--visually\" id=\"sk-estimator-id-1\" type=\"checkbox\" checked><label for=\"sk-estimator-id-1\" class=\"sk-toggleable__label fitted sk-toggleable__label-arrow fitted\">&nbsp;&nbsp;LogisticRegression<a class=\"sk-estimator-doc-link fitted\" rel=\"noreferrer\" target=\"_blank\" href=\"https://scikit-learn.org/1.4/modules/generated/sklearn.linear_model.LogisticRegression.html\">?<span>Documentation for LogisticRegression</span></a><span class=\"sk-estimator-doc-link fitted\">i<span>Fitted</span></span></label><div class=\"sk-toggleable__content fitted\"><pre>LogisticRegression()</pre></div> </div></div></div></div>"
      ],
      "text/plain": [
       "LogisticRegression()"
      ]
     },
     "execution_count": 26,
     "metadata": {},
     "output_type": "execute_result"
    }
   ],
   "source": [
    "clf.fit(X_train, y_train)"
   ]
  },
  {
   "cell_type": "code",
   "execution_count": 27,
   "id": "680b7265",
   "metadata": {},
   "outputs": [
    {
     "data": {
      "text/plain": [
       "array([[5.08289532, 5.26585383]])"
      ]
     },
     "execution_count": 27,
     "metadata": {},
     "output_type": "execute_result"
    }
   ],
   "source": [
    "clf.coef_"
   ]
  },
  {
   "cell_type": "code",
   "execution_count": 28,
   "id": "d725f21c",
   "metadata": {},
   "outputs": [
    {
     "data": {
      "text/plain": [
       "array([0, 0, 1, 0, 1, 1, 0, 0, 1, 0, 1, 1, 1, 0, 0, 1, 0, 1, 0, 0, 0, 1,\n",
       "       0, 0, 0, 0, 0, 1, 0, 1, 0, 0, 0, 0, 0, 1, 0, 0, 1, 1, 0, 1, 0, 0,\n",
       "       0, 0, 1, 1, 1, 1, 0, 0, 0, 0, 1, 0, 1, 0, 1, 0, 0, 1, 1, 0, 0, 0,\n",
       "       1, 0, 0, 0, 1, 1, 1, 1, 0, 1, 1, 0, 0, 1, 0, 0, 1, 0, 1, 0, 1, 1,\n",
       "       1, 1, 0, 1, 1, 1, 0, 1, 0, 0, 1, 1, 0, 1, 0, 1, 1, 0, 0, 1, 0, 1,\n",
       "       1, 0, 1, 1, 0, 1, 1, 0, 0, 0, 1, 0, 0, 0, 1, 0, 1, 1, 1, 1, 0, 1,\n",
       "       1, 0, 0, 0, 0, 0, 1, 1, 0, 0, 1, 1, 0, 0, 1, 1, 0, 1, 1, 1, 1, 0,\n",
       "       1, 1, 1, 1, 1, 0, 1, 0, 1, 0, 0], dtype=int64)"
      ]
     },
     "execution_count": 28,
     "metadata": {},
     "output_type": "execute_result"
    }
   ],
   "source": [
    "y_pred = clf.predict(X_test)\n",
    "y_pred"
   ]
  },
  {
   "cell_type": "code",
   "execution_count": 29,
   "id": "dc71ad2b",
   "metadata": {},
   "outputs": [
    {
     "data": {
      "text/plain": [
       "array([0, 0, 1, 0, 0, 1, 0, 0, 1, 0, 1, 1, 1, 0, 0, 1, 0, 1, 0, 0, 0, 1,\n",
       "       0, 0, 0, 0, 0, 1, 0, 1, 0, 0, 0, 0, 0, 1, 0, 0, 1, 1, 0, 1, 0, 0,\n",
       "       0, 0, 0, 1, 1, 1, 0, 0, 0, 0, 1, 0, 1, 0, 0, 0, 0, 1, 0, 0, 0, 0,\n",
       "       1, 0, 0, 0, 1, 1, 1, 0, 0, 1, 1, 0, 0, 1, 0, 0, 1, 0, 1, 0, 1, 0,\n",
       "       1, 1, 1, 1, 1, 0, 0, 1, 0, 0, 1, 1, 0, 1, 0, 1, 1, 0, 0, 1, 0, 1,\n",
       "       1, 0, 1, 1, 0, 1, 1, 0, 0, 0, 1, 0, 0, 1, 1, 1, 1, 1, 1, 1, 0, 1,\n",
       "       1, 0, 0, 1, 0, 0, 1, 1, 0, 1, 1, 1, 0, 0, 1, 1, 0, 1, 1, 1, 1, 0,\n",
       "       1, 1, 1, 1, 1, 0, 1, 0, 1, 0, 0], dtype=int64)"
      ]
     },
     "execution_count": 29,
     "metadata": {},
     "output_type": "execute_result"
    }
   ],
   "source": [
    "y_test.values"
   ]
  },
  {
   "cell_type": "code",
   "execution_count": 30,
   "id": "be89b561",
   "metadata": {},
   "outputs": [],
   "source": [
    "from sklearn.metrics import accuracy_score, confusion_matrix, classification_report"
   ]
  },
  {
   "cell_type": "code",
   "execution_count": 31,
   "id": "ec54c5c9",
   "metadata": {},
   "outputs": [
    {
     "name": "stdout",
     "output_type": "stream",
     "text": [
      "0.9272727272727272\n"
     ]
    }
   ],
   "source": [
    "print(accuracy_score(y_test, y_pred))"
   ]
  },
  {
   "cell_type": "code",
   "execution_count": 32,
   "id": "62e04726",
   "metadata": {},
   "outputs": [
    {
     "name": "stdout",
     "output_type": "stream",
     "text": [
      "[[80  7]\n",
      " [ 5 73]]\n"
     ]
    }
   ],
   "source": [
    "print(confusion_matrix(y_test, y_pred))"
   ]
  },
  {
   "cell_type": "code",
   "execution_count": 33,
   "id": "f4d4d912",
   "metadata": {},
   "outputs": [
    {
     "name": "stdout",
     "output_type": "stream",
     "text": [
      "              precision    recall  f1-score   support\n",
      "\n",
      "           0       0.94      0.92      0.93        87\n",
      "           1       0.91      0.94      0.92        78\n",
      "\n",
      "    accuracy                           0.93       165\n",
      "   macro avg       0.93      0.93      0.93       165\n",
      "weighted avg       0.93      0.93      0.93       165\n",
      "\n"
     ]
    }
   ],
   "source": [
    "print(classification_report(y_test, y_pred))"
   ]
  },
  {
   "cell_type": "code",
   "execution_count": 34,
   "id": "fd275177",
   "metadata": {},
   "outputs": [],
   "source": [
    "import pickle"
   ]
  },
  {
   "cell_type": "code",
   "execution_count": 35,
   "id": "b5e969b6",
   "metadata": {},
   "outputs": [],
   "source": [
    "pickle.dump(clf, open('my_model.pkl','wb'))"
   ]
  },
  {
   "cell_type": "code",
   "execution_count": 36,
   "id": "a5f83142",
   "metadata": {},
   "outputs": [],
   "source": [
    "model = pickle.load(open('my_model.pkl','rb'))"
   ]
  },
  {
   "cell_type": "code",
   "execution_count": 37,
   "id": "54fbad86",
   "metadata": {},
   "outputs": [
    {
     "name": "stderr",
     "output_type": "stream",
     "text": [
      "C:\\Users\\hmaze\\AppData\\Roaming\\Python\\Python311\\site-packages\\sklearn\\base.py:493: UserWarning:\n",
      "\n",
      "X does not have valid feature names, but MinMaxScaler was fitted with feature names\n",
      "\n"
     ]
    },
    {
     "data": {
      "text/plain": [
       "array([0], dtype=int64)"
      ]
     },
     "execution_count": 37,
     "metadata": {},
     "output_type": "execute_result"
    }
   ],
   "source": [
    "model.predict(ms.transform([[25, 55000]]))"
   ]
  },
  {
   "cell_type": "code",
   "execution_count": null,
   "id": "63702bf1",
   "metadata": {},
   "outputs": [],
   "source": []
  },
  {
   "cell_type": "markdown",
   "id": "090f4c7c",
   "metadata": {},
   "source": [
    "---"
   ]
  },
  {
   "cell_type": "markdown",
   "id": "b66e2877",
   "metadata": {},
   "source": [
    "# THANK YOU!"
   ]
  }
 ],
 "metadata": {
  "kernelspec": {
   "display_name": "Python 3",
   "language": "python",
   "name": "python3"
  },
  "language_info": {
   "codemirror_mode": {
    "name": "ipython",
    "version": 3
   },
   "file_extension": ".py",
   "mimetype": "text/x-python",
   "name": "python",
   "nbconvert_exporter": "python",
   "pygments_lexer": "ipython3",
   "version": "3.11.4"
  }
 },
 "nbformat": 4,
 "nbformat_minor": 5
}
